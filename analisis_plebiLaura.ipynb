{
 "cells": [
  {
   "cell_type": "code",
   "execution_count": 1,
   "metadata": {},
   "outputs": [],
   "source": [
    "import pandas as pd\n",
    "import numpy as np\n",
    "import matplotlib.pyplot as plt\n",
    "from matplotlib import pyplot\n",
    "plt.style.use('seaborn-whitegrid')\n",
    "import seaborn as sns\n",
    "from scipy.stats import norm\n",
    "from sklearn.preprocessing import StandardScaler\n",
    "import pylab\n",
    "import random\n",
    "\n",
    "import os"
   ]
  },
  {
   "cell_type": "code",
   "execution_count": 2,
   "metadata": {},
   "outputs": [],
   "source": [
    "plt.rc('axes', labelsize=22)\n",
    "plt.rc('xtick', labelsize=14)\n",
    "plt.rc('ytick', labelsize=14)"
   ]
  },
  {
   "cell_type": "code",
   "execution_count": 3,
   "metadata": {},
   "outputs": [
    {
     "data": {
      "text/plain": [
       "'/home/csarmiento/Documentos/learn_to/analisis_datos_sociales/Corpus_seleccionado/plebiLaura'"
      ]
     },
     "execution_count": 3,
     "metadata": {},
     "output_type": "execute_result"
    }
   ],
   "source": [
    "#A partir de aquí python sabe en que carpeta se encuentran los datos\n",
    "os.chdir(\"/home/csarmiento/Documentos/learn_to/analisis_datos_sociales/Corpus_seleccionado/plebiLaura/\")\n",
    "os.getcwd()"
   ]
  },
  {
   "cell_type": "markdown",
   "metadata": {},
   "source": [
    "#### Todos X la Paz "
   ]
  },
  {
   "cell_type": "code",
   "execution_count": 4,
   "metadata": {
    "scrolled": true
   },
   "outputs": [
    {
     "data": {
      "text/html": [
       "<div>\n",
       "<style scoped>\n",
       "    .dataframe tbody tr th:only-of-type {\n",
       "        vertical-align: middle;\n",
       "    }\n",
       "\n",
       "    .dataframe tbody tr th {\n",
       "        vertical-align: top;\n",
       "    }\n",
       "\n",
       "    .dataframe thead th {\n",
       "        text-align: right;\n",
       "    }\n",
       "</style>\n",
       "<table border=\"1\" class=\"dataframe\">\n",
       "  <thead>\n",
       "    <tr style=\"text-align: right;\">\n",
       "      <th></th>\n",
       "      <th>created_at</th>\n",
       "      <th>favorite_count</th>\n",
       "      <th>followers_count</th>\n",
       "      <th>id_str</th>\n",
       "      <th>in_reply_to_screen_name</th>\n",
       "      <th>retweet_count</th>\n",
       "      <th>screen_name</th>\n",
       "      <th>text</th>\n",
       "    </tr>\n",
       "  </thead>\n",
       "  <tbody>\n",
       "    <tr>\n",
       "      <th>0</th>\n",
       "      <td>2016-10-27 13:56:22</td>\n",
       "      <td>2</td>\n",
       "      <td>2602</td>\n",
       "      <td>791639681154813952</td>\n",
       "      <td>None</td>\n",
       "      <td>1</td>\n",
       "      <td>todosxlapazcol</td>\n",
       "      <td>Camilo entrega petición para que Jorge Barón l...</td>\n",
       "    </tr>\n",
       "    <tr>\n",
       "      <th>1</th>\n",
       "      <td>2016-10-20 23:01:08</td>\n",
       "      <td>9</td>\n",
       "      <td>2602</td>\n",
       "      <td>789240061057441792</td>\n",
       "      <td>None</td>\n",
       "      <td>9</td>\n",
       "      <td>todosxlapazcol</td>\n",
       "      <td>\"¡Paz, Paz, Colombia quiere Paz!\" Los colombia...</td>\n",
       "    </tr>\n",
       "    <tr>\n",
       "      <th>2</th>\n",
       "      <td>2016-10-20 22:43:54</td>\n",
       "      <td>26</td>\n",
       "      <td>2602</td>\n",
       "      <td>789235724352688128</td>\n",
       "      <td>None</td>\n",
       "      <td>18</td>\n",
       "      <td>todosxlapazcol</td>\n",
       "      <td>Jóvenes, viejos.. Aquí ya no hay diferencia. T...</td>\n",
       "    </tr>\n",
       "    <tr>\n",
       "      <th>3</th>\n",
       "      <td>2016-10-20 22:23:52</td>\n",
       "      <td>4</td>\n",
       "      <td>2602</td>\n",
       "      <td>789230681612320768</td>\n",
       "      <td>None</td>\n",
       "      <td>5</td>\n",
       "      <td>todosxlapazcol</td>\n",
       "      <td>Arrancó la #GranMarchaColombiaPacifica. ¿Ya es...</td>\n",
       "    </tr>\n",
       "    <tr>\n",
       "      <th>4</th>\n",
       "      <td>2016-10-20 17:31:40</td>\n",
       "      <td>2</td>\n",
       "      <td>2602</td>\n",
       "      <td>789157148060164096</td>\n",
       "      <td>None</td>\n",
       "      <td>3</td>\n",
       "      <td>todosxlapazcol</td>\n",
       "      <td>¿Ya #EstamosListos para la #GranMarchaColombia...</td>\n",
       "    </tr>\n",
       "  </tbody>\n",
       "</table>\n",
       "</div>"
      ],
      "text/plain": [
       "           created_at  favorite_count  followers_count              id_str  \\\n",
       "0 2016-10-27 13:56:22               2             2602  791639681154813952   \n",
       "1 2016-10-20 23:01:08               9             2602  789240061057441792   \n",
       "2 2016-10-20 22:43:54              26             2602  789235724352688128   \n",
       "3 2016-10-20 22:23:52               4             2602  789230681612320768   \n",
       "4 2016-10-20 17:31:40               2             2602  789157148060164096   \n",
       "\n",
       "  in_reply_to_screen_name  retweet_count     screen_name  \\\n",
       "0                    None              1  todosxlapazcol   \n",
       "1                    None              9  todosxlapazcol   \n",
       "2                    None             18  todosxlapazcol   \n",
       "3                    None              5  todosxlapazcol   \n",
       "4                    None              3  todosxlapazcol   \n",
       "\n",
       "                                                text  \n",
       "0  Camilo entrega petición para que Jorge Barón l...  \n",
       "1  \"¡Paz, Paz, Colombia quiere Paz!\" Los colombia...  \n",
       "2  Jóvenes, viejos.. Aquí ya no hay diferencia. T...  \n",
       "3  Arrancó la #GranMarchaColombiaPacifica. ¿Ya es...  \n",
       "4  ¿Ya #EstamosListos para la #GranMarchaColombia...  "
      ]
     },
     "execution_count": 4,
     "metadata": {},
     "output_type": "execute_result"
    }
   ],
   "source": [
    "df= pd.read_json(r\"todosxlapazcol.json\")\n",
    "df.head()"
   ]
  },
  {
   "cell_type": "code",
   "execution_count": 5,
   "metadata": {
    "scrolled": false
   },
   "outputs": [
    {
     "name": "stdout",
     "output_type": "stream",
     "text": [
      "<class 'pandas.core.frame.DataFrame'>\n",
      "RangeIndex: 2690 entries, 0 to 2689\n",
      "Data columns (total 8 columns):\n",
      " #   Column                   Non-Null Count  Dtype         \n",
      "---  ------                   --------------  -----         \n",
      " 0   created_at               2690 non-null   datetime64[ns]\n",
      " 1   favorite_count           2690 non-null   int64         \n",
      " 2   followers_count          2690 non-null   int64         \n",
      " 3   id_str                   2690 non-null   int64         \n",
      " 4   in_reply_to_screen_name  8 non-null      object        \n",
      " 5   retweet_count            2690 non-null   int64         \n",
      " 6   screen_name              2690 non-null   object        \n",
      " 7   text                     2690 non-null   object        \n",
      "dtypes: datetime64[ns](1), int64(4), object(3)\n",
      "memory usage: 168.2+ KB\n"
     ]
    }
   ],
   "source": [
    "df.info()"
   ]
  },
  {
   "cell_type": "code",
   "execution_count": 6,
   "metadata": {},
   "outputs": [],
   "source": [
    "df_cut= df[df[\"created_at\"]<=\"2016-10-02 23:59:59\"]\n",
    "df1=df[(df[\"created_at\"]>=\"2016-01-01 00:00:00\") & (df[\"created_at\"]<=\"2016-04-30 23:59:59\")]\n",
    "df2=df[(df[\"created_at\"]>=\"2016-05-01 00:00:00\") & (df[\"created_at\"]<=\"2016-07-31 23:59:59\")]\n",
    "df3=df[(df[\"created_at\"]>=\"2016-08-01 00:00:00\") & (df[\"created_at\"]<=\"2016-10-02 23:59:59\")]"
   ]
  },
  {
   "cell_type": "code",
   "execution_count": 7,
   "metadata": {},
   "outputs": [
    {
     "name": "stdout",
     "output_type": "stream",
     "text": [
      "numero total de tuits 2690\n",
      "numero de tuits hasta el 02-10 2672\n",
      "numero de tuits, primer periodo 125\n",
      "numero de tuits, segundo periodo 467\n",
      "numero de tuits, tercer periodo 2080\n"
     ]
    }
   ],
   "source": [
    "print(\"numero total de tuits\", df.shape[0])\n",
    "print(\"numero de tuits hasta el 02-10\", df_cut.shape[0])\n",
    "print(\"numero de tuits, primer periodo\", df1.shape[0])\n",
    "print(\"numero de tuits, segundo periodo\", df2.shape[0])\n",
    "print(\"numero de tuits, tercer periodo\", df3.shape[0])"
   ]
  },
  {
   "cell_type": "code",
   "execution_count": 8,
   "metadata": {
    "scrolled": false
   },
   "outputs": [
    {
     "data": {
      "image/png": "[encoded data removed]",
      "text/plain": [
       "<Figure size 720x576 with 1 Axes>"
      ]
     },
     "metadata": {
      "needs_background": "light"
     },
     "output_type": "display_data"
    }
   ],
   "source": [
    "plt.figure(figsize=(10,8))\n",
    "#plt.hist(df_cut[\"created_at\"], bins=25, histtype='step', color=\"b\", linewidth=2, fill=False);\n",
    "plt.hist(df1[\"created_at\"], bins=5, histtype='step', color=\"m\", linewidth=1, fill=True);\n",
    "plt.hist(df2[\"created_at\"], bins=8, histtype='step', color=\"darkblue\", linewidth=1, fill=True);\n",
    "plt.hist(df3[\"created_at\"], bins=8, histtype='step', color=\"b\", linewidth=1, fill=True)\n",
    "plt.xlabel(\"Fecha de creación del tuit\")\n",
    "plt.ylabel(\"Número de tuits\")\n",
    "plt.show()"
   ]
  },
  {
   "cell_type": "code",
   "execution_count": 9,
   "metadata": {},
   "outputs": [
    {
     "data": {
      "text/plain": [
       "'Hoy Bogotá marcha por las víctimas; para que ellos y todos nosotros, tengamos la paz que tanto anhelamos. #TodosPorLaPaz #AcuerdoYa https://t.co/8g7KekAcf3'"
      ]
     },
     "execution_count": 9,
     "metadata": {},
     "output_type": "execute_result"
    }
   ],
   "source": [
    "df.iloc[10, 7]"
   ]
  },
  {
   "cell_type": "code",
   "execution_count": 10,
   "metadata": {},
   "outputs": [
    {
     "data": {
      "text/plain": [
       "13427"
      ]
     },
     "execution_count": 10,
     "metadata": {},
     "output_type": "execute_result"
    }
   ],
   "source": [
    "#df[\"retweet_count\"].max()\n",
    "np.max(df[\"retweet_count\"])"
   ]
  },
  {
   "cell_type": "code",
   "execution_count": 11,
   "metadata": {},
   "outputs": [],
   "source": [
    "df_RT= df[df[\"retweet_count\"]==13427]"
   ]
  },
  {
   "cell_type": "code",
   "execution_count": 12,
   "metadata": {},
   "outputs": [
    {
     "data": {
      "text/html": [
       "<div>\n",
       "<style scoped>\n",
       "    .dataframe tbody tr th:only-of-type {\n",
       "        vertical-align: middle;\n",
       "    }\n",
       "\n",
       "    .dataframe tbody tr th {\n",
       "        vertical-align: top;\n",
       "    }\n",
       "\n",
       "    .dataframe thead th {\n",
       "        text-align: right;\n",
       "    }\n",
       "</style>\n",
       "<table border=\"1\" class=\"dataframe\">\n",
       "  <thead>\n",
       "    <tr style=\"text-align: right;\">\n",
       "      <th></th>\n",
       "      <th>created_at</th>\n",
       "      <th>favorite_count</th>\n",
       "      <th>followers_count</th>\n",
       "      <th>id_str</th>\n",
       "      <th>in_reply_to_screen_name</th>\n",
       "      <th>retweet_count</th>\n",
       "      <th>screen_name</th>\n",
       "      <th>text</th>\n",
       "    </tr>\n",
       "  </thead>\n",
       "  <tbody>\n",
       "    <tr>\n",
       "      <th>390</th>\n",
       "      <td>2016-09-30 22:17:15</td>\n",
       "      <td>0</td>\n",
       "      <td>2602</td>\n",
       "      <td>781981261657243648</td>\n",
       "      <td>None</td>\n",
       "      <td>13427</td>\n",
       "      <td>todosxlapazcol</td>\n",
       "      <td>RT @Pontifex_es: Señor Jesús, extiende la somb...</td>\n",
       "    </tr>\n",
       "  </tbody>\n",
       "</table>\n",
       "</div>"
      ],
      "text/plain": [
       "             created_at  favorite_count  followers_count              id_str  \\\n",
       "390 2016-09-30 22:17:15               0             2602  781981261657243648   \n",
       "\n",
       "    in_reply_to_screen_name  retweet_count     screen_name  \\\n",
       "390                    None          13427  todosxlapazcol   \n",
       "\n",
       "                                                  text  \n",
       "390  RT @Pontifex_es: Señor Jesús, extiende la somb...  "
      ]
     },
     "execution_count": 12,
     "metadata": {},
     "output_type": "execute_result"
    }
   ],
   "source": [
    "df_RT.head()"
   ]
  },
  {
   "cell_type": "code",
   "execution_count": 13,
   "metadata": {
    "scrolled": true
   },
   "outputs": [
    {
     "data": {
      "text/plain": [
       "'RT @Pontifex_es: Señor Jesús, extiende la sombra de tu cruz sobre los pueblos en guerra: que aprendan el camino de la reconciliación, el di…'"
      ]
     },
     "execution_count": 13,
     "metadata": {},
     "output_type": "execute_result"
    }
   ],
   "source": [
    "df.iloc[390, 7]"
   ]
  },
  {
   "cell_type": "code",
   "execution_count": 14,
   "metadata": {},
   "outputs": [
    {
     "data": {
      "image/png": "[encoded data removed]",
      "text/plain": [
       "<Figure size 720x576 with 1 Axes>"
      ]
     },
     "metadata": {
      "needs_background": "light"
     },
     "output_type": "display_data"
    }
   ],
   "source": [
    "plt.figure(figsize=(10,8))\n",
    "plt.hist(df[\"retweet_count\"], bins=1000, histtype='step', color=\"b\", linewidth=2, fill=False);\n",
    "plt.xlim(0,500)\n",
    "plt.yscale(\"log\")\n",
    "plt.show()"
   ]
  },
  {
   "cell_type": "markdown",
   "metadata": {},
   "source": [
    "#### Estrategía de Paz"
   ]
  },
  {
   "cell_type": "code",
   "execution_count": 15,
   "metadata": {
    "scrolled": false
   },
   "outputs": [
    {
     "data": {
      "text/html": [
       "<div>\n",
       "<style scoped>\n",
       "    .dataframe tbody tr th:only-of-type {\n",
       "        vertical-align: middle;\n",
       "    }\n",
       "\n",
       "    .dataframe tbody tr th {\n",
       "        vertical-align: top;\n",
       "    }\n",
       "\n",
       "    .dataframe thead th {\n",
       "        text-align: right;\n",
       "    }\n",
       "</style>\n",
       "<table border=\"1\" class=\"dataframe\">\n",
       "  <thead>\n",
       "    <tr style=\"text-align: right;\">\n",
       "      <th></th>\n",
       "      <th>id</th>\n",
       "      <th>created_at</th>\n",
       "      <th>text</th>\n",
       "      <th>retweet_count</th>\n",
       "      <th>favorite_count</th>\n",
       "    </tr>\n",
       "  </thead>\n",
       "  <tbody>\n",
       "    <tr>\n",
       "      <th>0</th>\n",
       "      <td>1098987979085938694</td>\n",
       "      <td>2019-02-22 16:48:47</td>\n",
       "      <td>RT @herrerak11: “Falta mucho. Esto es complejo...</td>\n",
       "      <td>4</td>\n",
       "      <td>0</td>\n",
       "    </tr>\n",
       "    <tr>\n",
       "      <th>1</th>\n",
       "      <td>1098982801259614208</td>\n",
       "      <td>2019-02-22 16:28:12</td>\n",
       "      <td>RT @herrerak11: “46.612 vidas perdimos. Y digo...</td>\n",
       "      <td>5</td>\n",
       "      <td>0</td>\n",
       "    </tr>\n",
       "    <tr>\n",
       "      <th>2</th>\n",
       "      <td>1098980054250516480</td>\n",
       "      <td>2019-02-22 16:17:17</td>\n",
       "      <td>RT @herrerak11: “Olvidar a las víctimas es mat...</td>\n",
       "      <td>2</td>\n",
       "      <td>0</td>\n",
       "    </tr>\n",
       "    <tr>\n",
       "      <th>3</th>\n",
       "      <td>1096985902155481093</td>\n",
       "      <td>2019-02-17 04:13:14</td>\n",
       "      <td>RT @RevistaSemana: #YoDefiendoLaJEP | Si el go...</td>\n",
       "      <td>1558</td>\n",
       "      <td>0</td>\n",
       "    </tr>\n",
       "    <tr>\n",
       "      <th>4</th>\n",
       "      <td>1096985884598194178</td>\n",
       "      <td>2019-02-17 04:13:10</td>\n",
       "      <td>RT @juliandezubiria: En Colombia hay sectores ...</td>\n",
       "      <td>501</td>\n",
       "      <td>0</td>\n",
       "    </tr>\n",
       "  </tbody>\n",
       "</table>\n",
       "</div>"
      ],
      "text/plain": [
       "                    id           created_at  \\\n",
       "0  1098987979085938694  2019-02-22 16:48:47   \n",
       "1  1098982801259614208  2019-02-22 16:28:12   \n",
       "2  1098980054250516480  2019-02-22 16:17:17   \n",
       "3  1096985902155481093  2019-02-17 04:13:14   \n",
       "4  1096985884598194178  2019-02-17 04:13:10   \n",
       "\n",
       "                                                text  retweet_count  \\\n",
       "0  RT @herrerak11: “Falta mucho. Esto es complejo...              4   \n",
       "1  RT @herrerak11: “46.612 vidas perdimos. Y digo...              5   \n",
       "2  RT @herrerak11: “Olvidar a las víctimas es mat...              2   \n",
       "3  RT @RevistaSemana: #YoDefiendoLaJEP | Si el go...           1558   \n",
       "4  RT @juliandezubiria: En Colombia hay sectores ...            501   \n",
       "\n",
       "   favorite_count  \n",
       "0               0  \n",
       "1               0  \n",
       "2               0  \n",
       "3               0  \n",
       "4               0  "
      ]
     },
     "execution_count": 15,
     "metadata": {},
     "output_type": "execute_result"
    }
   ],
   "source": [
    "dg= pd.read_csv(r\"estrategiadepaz_tweets.csv\")\n",
    "dg.head()"
   ]
  },
  {
   "cell_type": "code",
   "execution_count": 16,
   "metadata": {
    "scrolled": false
   },
   "outputs": [
    {
     "name": "stdout",
     "output_type": "stream",
     "text": [
      "<class 'pandas.core.frame.DataFrame'>\n",
      "RangeIndex: 1883 entries, 0 to 1882\n",
      "Data columns (total 5 columns):\n",
      " #   Column          Non-Null Count  Dtype \n",
      "---  ------          --------------  ----- \n",
      " 0   id              1883 non-null   int64 \n",
      " 1   created_at      1883 non-null   object\n",
      " 2   text            1883 non-null   object\n",
      " 3   retweet_count   1883 non-null   int64 \n",
      " 4   favorite_count  1883 non-null   int64 \n",
      "dtypes: int64(3), object(2)\n",
      "memory usage: 73.7+ KB\n"
     ]
    }
   ],
   "source": [
    "dg.info()"
   ]
  },
  {
   "cell_type": "code",
   "execution_count": 17,
   "metadata": {},
   "outputs": [],
   "source": [
    "dg['created_at'] = dg['created_at'].astype('datetime64')"
   ]
  },
  {
   "cell_type": "code",
   "execution_count": 18,
   "metadata": {},
   "outputs": [],
   "source": [
    "dg_cut= dg[dg[\"created_at\"]<=\"2016-10-02 23:59:59\"]\n",
    "dg1=dg[(dg[\"created_at\"]>=\"2016-01-01 00:00:00\") & (dg[\"created_at\"]<=\"2016-04-30 23:59:59\")]\n",
    "dg2=dg[(dg[\"created_at\"]>=\"2016-05-01 00:00:00\") & (dg[\"created_at\"]<=\"2016-07-31 23:59:59\")]\n",
    "dg3=dg[(dg[\"created_at\"]>=\"2016-08-01 00:00:00\") & (dg[\"created_at\"]<=\"2016-10-02 23:59:59\")]"
   ]
  },
  {
   "cell_type": "code",
   "execution_count": 19,
   "metadata": {},
   "outputs": [
    {
     "name": "stdout",
     "output_type": "stream",
     "text": [
      "numero total de tuits 1883\n",
      "numero de tuits hasta el 02-10 790\n",
      "numero de tuits, primer periodo 345\n",
      "numero de tuits, segundo periodo 361\n",
      "numero de tuits, tercer periodo 84\n"
     ]
    }
   ],
   "source": [
    "print(\"numero total de tuits\", dg.shape[0])\n",
    "print(\"numero de tuits hasta el 02-10\", dg_cut.shape[0])\n",
    "print(\"numero de tuits, primer periodo\", dg1.shape[0])\n",
    "print(\"numero de tuits, segundo periodo\", dg2.shape[0])\n",
    "print(\"numero de tuits, tercer periodo\", dg3.shape[0])"
   ]
  },
  {
   "cell_type": "code",
   "execution_count": 20,
   "metadata": {
    "scrolled": false
   },
   "outputs": [
    {
     "data": {
      "image/png": "[encoded data removed]",
      "text/plain": [
       "<Figure size 720x576 with 1 Axes>"
      ]
     },
     "metadata": {
      "needs_background": "light"
     },
     "output_type": "display_data"
    }
   ],
   "source": [
    "plt.figure(figsize=(10,8))\n",
    "plt.hist(dg[\"created_at\"], bins=25, histtype='step', color=\"b\", linewidth=2, fill=False);"
   ]
  },
  {
   "cell_type": "code",
   "execution_count": 21,
   "metadata": {
    "scrolled": false
   },
   "outputs": [
    {
     "data": {
      "image/png": "[encoded data removed]",
      "text/plain": [
       "<Figure size 720x576 with 1 Axes>"
      ]
     },
     "metadata": {
      "needs_background": "light"
     },
     "output_type": "display_data"
    }
   ],
   "source": [
    "plt.figure(figsize=(10,8))\n",
    "#plt.hist(dg_cut[\"created_at\"], bins=25, histtype='step', color=\"b\", linewidth=2, fill=False);\n",
    "plt.hist(dg1[\"created_at\"], bins=9, histtype='step', color=\"m\", linewidth=1, fill=True);\n",
    "plt.hist(dg2[\"created_at\"], bins=9, histtype='step', color=\"darkblue\", linewidth=1, fill=True);\n",
    "plt.hist(dg3[\"created_at\"], bins=10, histtype='step', color=\"b\", linewidth=1, fill=True)\n",
    "plt.xlabel(\"Fecha de creación del tuit\")\n",
    "plt.ylabel(\"Número de tuits\")\n",
    "plt.show()"
   ]
  },
  {
   "cell_type": "markdown",
   "metadata": {},
   "source": [
    "#### Forjando Paz"
   ]
  },
  {
   "cell_type": "code",
   "execution_count": 22,
   "metadata": {
    "scrolled": false
   },
   "outputs": [
    {
     "data": {
      "text/html": [
       "<div>\n",
       "<style scoped>\n",
       "    .dataframe tbody tr th:only-of-type {\n",
       "        vertical-align: middle;\n",
       "    }\n",
       "\n",
       "    .dataframe tbody tr th {\n",
       "        vertical-align: top;\n",
       "    }\n",
       "\n",
       "    .dataframe thead th {\n",
       "        text-align: right;\n",
       "    }\n",
       "</style>\n",
       "<table border=\"1\" class=\"dataframe\">\n",
       "  <thead>\n",
       "    <tr style=\"text-align: right;\">\n",
       "      <th></th>\n",
       "      <th>id</th>\n",
       "      <th>created_at</th>\n",
       "      <th>text</th>\n",
       "      <th>retweet_count</th>\n",
       "      <th>favorite_count</th>\n",
       "    </tr>\n",
       "  </thead>\n",
       "  <tbody>\n",
       "    <tr>\n",
       "      <th>0</th>\n",
       "      <td>1189326560807063557</td>\n",
       "      <td>2019-10-29 23:42:03</td>\n",
       "      <td>RT @ACIN_Cauca: Declaramos estado de emergenci...</td>\n",
       "      <td>125</td>\n",
       "      <td>0</td>\n",
       "    </tr>\n",
       "    <tr>\n",
       "      <th>1</th>\n",
       "      <td>1170360435192868865</td>\n",
       "      <td>2019-09-07 15:37:26</td>\n",
       "      <td>RT @FORJANDOPAZ: ¿Quienes son solo paganinis d...</td>\n",
       "      <td>5</td>\n",
       "      <td>0</td>\n",
       "    </tr>\n",
       "    <tr>\n",
       "      <th>2</th>\n",
       "      <td>1065085689866403841</td>\n",
       "      <td>2018-11-21 03:33:11</td>\n",
       "      <td>RT @CesPazCol: ¿Qué está pasando en los territ...</td>\n",
       "      <td>11</td>\n",
       "      <td>0</td>\n",
       "    </tr>\n",
       "    <tr>\n",
       "      <th>3</th>\n",
       "      <td>1065085630475116544</td>\n",
       "      <td>2018-11-21 03:32:57</td>\n",
       "      <td>RT @CesPazCol: Importante visita a COLOMBIA de...</td>\n",
       "      <td>3</td>\n",
       "      <td>0</td>\n",
       "    </tr>\n",
       "    <tr>\n",
       "      <th>4</th>\n",
       "      <td>1043124232148934656</td>\n",
       "      <td>2018-09-21 13:06:11</td>\n",
       "      <td>RT @seamos: Somos los jóvenes los que tenemos ...</td>\n",
       "      <td>11</td>\n",
       "      <td>0</td>\n",
       "    </tr>\n",
       "  </tbody>\n",
       "</table>\n",
       "</div>"
      ],
      "text/plain": [
       "                    id           created_at  \\\n",
       "0  1189326560807063557  2019-10-29 23:42:03   \n",
       "1  1170360435192868865  2019-09-07 15:37:26   \n",
       "2  1065085689866403841  2018-11-21 03:33:11   \n",
       "3  1065085630475116544  2018-11-21 03:32:57   \n",
       "4  1043124232148934656  2018-09-21 13:06:11   \n",
       "\n",
       "                                                text  retweet_count  \\\n",
       "0  RT @ACIN_Cauca: Declaramos estado de emergenci...            125   \n",
       "1  RT @FORJANDOPAZ: ¿Quienes son solo paganinis d...              5   \n",
       "2  RT @CesPazCol: ¿Qué está pasando en los territ...             11   \n",
       "3  RT @CesPazCol: Importante visita a COLOMBIA de...              3   \n",
       "4  RT @seamos: Somos los jóvenes los que tenemos ...             11   \n",
       "\n",
       "   favorite_count  \n",
       "0               0  \n",
       "1               0  \n",
       "2               0  \n",
       "3               0  \n",
       "4               0  "
      ]
     },
     "execution_count": 22,
     "metadata": {},
     "output_type": "execute_result"
    }
   ],
   "source": [
    "dh= pd.read_csv(r\"FORJANDOPAZ_tweets.csv\")\n",
    "dh.head()"
   ]
  },
  {
   "cell_type": "code",
   "execution_count": 23,
   "metadata": {
    "scrolled": false
   },
   "outputs": [
    {
     "name": "stdout",
     "output_type": "stream",
     "text": [
      "<class 'pandas.core.frame.DataFrame'>\n",
      "RangeIndex: 1523 entries, 0 to 1522\n",
      "Data columns (total 5 columns):\n",
      " #   Column          Non-Null Count  Dtype \n",
      "---  ------          --------------  ----- \n",
      " 0   id              1523 non-null   int64 \n",
      " 1   created_at      1523 non-null   object\n",
      " 2   text            1523 non-null   object\n",
      " 3   retweet_count   1523 non-null   int64 \n",
      " 4   favorite_count  1523 non-null   int64 \n",
      "dtypes: int64(3), object(2)\n",
      "memory usage: 59.6+ KB\n"
     ]
    }
   ],
   "source": [
    "dh.info()"
   ]
  },
  {
   "cell_type": "code",
   "execution_count": 24,
   "metadata": {},
   "outputs": [],
   "source": [
    "dh['created_at'] = dh['created_at'].astype('datetime64')"
   ]
  },
  {
   "cell_type": "code",
   "execution_count": 25,
   "metadata": {},
   "outputs": [
    {
     "name": "stdout",
     "output_type": "stream",
     "text": [
      "<class 'pandas.core.frame.DataFrame'>\n",
      "RangeIndex: 1523 entries, 0 to 1522\n",
      "Data columns (total 5 columns):\n",
      " #   Column          Non-Null Count  Dtype         \n",
      "---  ------          --------------  -----         \n",
      " 0   id              1523 non-null   int64         \n",
      " 1   created_at      1523 non-null   datetime64[ns]\n",
      " 2   text            1523 non-null   object        \n",
      " 3   retweet_count   1523 non-null   int64         \n",
      " 4   favorite_count  1523 non-null   int64         \n",
      "dtypes: datetime64[ns](1), int64(3), object(1)\n",
      "memory usage: 59.6+ KB\n"
     ]
    }
   ],
   "source": [
    "dh.info()"
   ]
  },
  {
   "cell_type": "code",
   "execution_count": 26,
   "metadata": {},
   "outputs": [
    {
     "data": {
      "text/plain": [
       "(Timestamp('2019-09-07 15:37:26'),\n",
       " 'RT @FORJANDOPAZ: ¿Quienes son solo paganinis de #ElChicharrónDeLaTierra en Colombia?  #PorElSÍ https://t.co/X2YWU0xgpW')"
      ]
     },
     "execution_count": 26,
     "metadata": {},
     "output_type": "execute_result"
    }
   ],
   "source": [
    "dh.iloc[1, 1], dh.iloc[1, 2]"
   ]
  },
  {
   "cell_type": "code",
   "execution_count": 27,
   "metadata": {},
   "outputs": [],
   "source": [
    "dh_cut= dh[dh[\"created_at\"]<\"2016-10-02\"]"
   ]
  },
  {
   "cell_type": "code",
   "execution_count": 28,
   "metadata": {},
   "outputs": [],
   "source": [
    "dh_cut= dh[dh[\"created_at\"]<=\"2016-10-02 23:59:59\"]\n",
    "dh1=dh[(dh[\"created_at\"]>=\"2016-01-01 00:00:00\") & (dh[\"created_at\"]<=\"2016-04-30 23:59:59\")]\n",
    "dh2=dh[(dh[\"created_at\"]>=\"2016-05-01 00:00:00\") & (dh[\"created_at\"]<=\"2016-07-31 23:59:59\")]\n",
    "dh3=dh[(dh[\"created_at\"]>=\"2016-08-01 00:00:00\") & (dh[\"created_at\"]<=\"2016-10-02 23:59:59\")]"
   ]
  },
  {
   "cell_type": "code",
   "execution_count": 29,
   "metadata": {},
   "outputs": [
    {
     "name": "stdout",
     "output_type": "stream",
     "text": [
      "numero total de tuits 1523\n",
      "numero de tuits hasta el 02-10 751\n",
      "numero de tuits, primer periodo 0\n",
      "numero de tuits, segundo periodo 369\n",
      "numero de tuits, tercer periodo 382\n"
     ]
    }
   ],
   "source": [
    "print(\"numero total de tuits\", dh.shape[0])\n",
    "print(\"numero de tuits hasta el 02-10\", dh_cut.shape[0])\n",
    "print(\"numero de tuits, primer periodo\", dh1.shape[0])\n",
    "print(\"numero de tuits, segundo periodo\", dh2.shape[0])\n",
    "print(\"numero de tuits, tercer periodo\", dh3.shape[0])"
   ]
  },
  {
   "cell_type": "code",
   "execution_count": 30,
   "metadata": {
    "scrolled": false
   },
   "outputs": [
    {
     "data": {
      "image/png": "[encoded data removed]",
      "text/plain": [
       "<Figure size 720x576 with 1 Axes>"
      ]
     },
     "metadata": {
      "needs_background": "light"
     },
     "output_type": "display_data"
    }
   ],
   "source": [
    "plt.figure(figsize=(10,8))\n",
    "plt.hist(dh_cut[\"created_at\"], bins=15, histtype='step', color=\"b\", linewidth=2, fill=False);"
   ]
  },
  {
   "cell_type": "code",
   "execution_count": 31,
   "metadata": {
    "scrolled": false
   },
   "outputs": [
    {
     "data": {
      "image/png": "[encoded data removed]",
      "text/plain": [
       "<Figure size 720x576 with 1 Axes>"
      ]
     },
     "metadata": {
      "needs_background": "light"
     },
     "output_type": "display_data"
    }
   ],
   "source": [
    "plt.figure(figsize=(10,8))\n",
    "#plt.hist(dh_cut[\"created_at\"], bins=25, histtype='step', color=\"b\", linewidth=2, fill=False);\n",
    "#plt.hist(dh1[\"created_at\"], bins=9, histtype='step', color=\"m\", linewidth=1, fill=True);\n",
    "plt.hist(dh2[\"created_at\"], bins=9, histtype='step', color=\"darkblue\", linewidth=1, fill=True);\n",
    "plt.hist(dh3[\"created_at\"], bins=10, histtype='step', color=\"b\", linewidth=1, fill=True)\n",
    "plt.xlabel(\"Fecha de creación del tuit\")\n",
    "plt.ylabel(\"Número de tuits\")\n",
    "plt.show()"
   ]
  },
  {
   "cell_type": "code",
   "execution_count": 32,
   "metadata": {},
   "outputs": [
    {
     "name": "stdout",
     "output_type": "stream",
     "text": [
      "#EstamosListos para construir juntos una mejor 🇨🇴. ¿Y tú?\n",
      "Mañana #oct20, #GranMarchaColombiaPacífica.  Planetario, 5pm 💛💙❤️ https://t.co/GzT79dKl6Y\n"
     ]
    }
   ],
   "source": [
    "print(df.iloc[6, 7])"
   ]
  },
  {
   "cell_type": "code",
   "execution_count": 33,
   "metadata": {},
   "outputs": [
    {
     "data": {
      "text/plain": [
       "created_at                 2690\n",
       "favorite_count             2690\n",
       "followers_count            2690\n",
       "id_str                     2690\n",
       "in_reply_to_screen_name       8\n",
       "retweet_count              2690\n",
       "screen_name                2690\n",
       "text                       2690\n",
       "dtype: int64"
      ]
     },
     "execution_count": 33,
     "metadata": {},
     "output_type": "execute_result"
    }
   ],
   "source": [
    "df.count()"
   ]
  },
  {
   "cell_type": "code",
   "execution_count": 34,
   "metadata": {},
   "outputs": [
    {
     "name": "stdout",
     "output_type": "stream",
     "text": [
      "2690\n"
     ]
    }
   ],
   "source": [
    "print(df.shape[0])"
   ]
  },
  {
   "cell_type": "code",
   "execution_count": 35,
   "metadata": {},
   "outputs": [
    {
     "name": "stdout",
     "output_type": "stream",
     "text": [
      "538\n"
     ]
    }
   ],
   "source": [
    "nt=df.shape[0]\n",
    "r=np.linspace(0,nt,nt+1).tolist()\n",
    "ct=random.sample(r, int(nt*0.2))\n",
    "print(len(ct))"
   ]
  },
  {
   "cell_type": "code",
   "execution_count": 36,
   "metadata": {},
   "outputs": [
    {
     "name": "stdout",
     "output_type": "stream",
     "text": [
      "2016-09-02 17:14:33 RT @JulianArevaloB: El Externado dice #ObvioQueSi https://t.co/aWP3rOg9pt\n",
      "2016-10-02 18:53:18 #HoyVotoSiALaPaz https://t.co/wQcdHTWFxp\n"
     ]
    }
   ],
   "source": [
    "for i in range(2):\n",
    "    print(df.iloc[int(ct[i]), 0], df.iloc[int(ct[i]), 7])"
   ]
  },
  {
   "cell_type": "code",
   "execution_count": 37,
   "metadata": {},
   "outputs": [],
   "source": [
    "import csv"
   ]
  },
  {
   "cell_type": "code",
   "execution_count": 38,
   "metadata": {},
   "outputs": [],
   "source": [
    "tt=[]\n",
    "dx = pd.DataFrame()\n",
    "def eligetuits(dx, x):\n",
    "    nt=dx.shape[0]\n",
    "    r=np.linspace(0,nt,nt+1).tolist()\n",
    "    ct=random.sample(r, int(nt*x))\n",
    "    print(len(ct))\n",
    "\n",
    "    for i in range(len(ct)):\n",
    "        print(dx.iloc[int(ct[i]), 1],\";\\t\",dx.iloc[int(ct[i]), 2],\"\\n\")\n",
    "        #tt.append([dx.iloc[int(ct[i]), 0], dx.iloc[int(ct[i]), 7]])\n",
    "        "
   ]
  },
  {
   "cell_type": "code",
   "execution_count": 40,
   "metadata": {},
   "outputs": [
    {
     "name": "stdout",
     "output_type": "stream",
     "text": [
      "76\n",
      "2016-08-29 04:47:48 ;\t #CeseAlFuegoDefinitivo llegó la hora de decirle SÍ a la paz https://t.co/bYxk7XIK4z \n",
      "\n",
      "2016-09-09 14:07:27 ;\t #LaGranEncuesta muestra un SÍ contundente de Colombianos cansados de la guerra   #BuenViernes https://t.co/ktOvetqNrG \n",
      "\n",
      "2016-08-26 17:55:42 ;\t La oportunidad es ahora, la decisión es nuestra, vamos por el SÍ que es nuestro derecho #LaPazSiEsContigo https://t.co/xpjJ7u4I23 \n",
      "\n",
      "2016-08-11 17:05:43 ;\t Estamos con padres de familia del jardín infantil Gato con Botas #ForjandoPaz. Pedagogía sobre los acuerdos de paz https://t.co/jurmxQt8wx \n",
      "\n",
      "2016-08-01 13:16:20 ;\t Tunjuelito pedalea por la Paz y la esperanza de construir una nueva Colombia #BiciPAZeo https://t.co/iN3JrG0GPa \n",
      "\n",
      "2016-08-14 16:17:08 ;\t La escuela y su papel en el proceso de paz https://t.co/1sxLfQHJZR \n",
      "\n",
      "2016-08-23 00:38:48 ;\t Fortalecer la economía campesina es uno de los acuerdos en la negociación entre Gobierno y FARC #VotaSÍaLaPaz https://t.co/wqUe7BkGKJ \n",
      "\n",
      "2016-08-30 13:11:25 ;\t RT @plantamarilla: #Colombia #PazColombia #SiALaPaz  Reparación a las víctimas ¿como se puede comprender?@FORJANDOPAZ ayuda: https://t.co/y… \n",
      "\n",
      "2016-08-31 00:44:37 ;\t #LaPazLaMejorOportunidad para que le devuelvan la tierra a los campesinos y la  puedan trabajar en paz https://t.co/6onsZWEnjJ \n",
      "\n",
      "2016-08-29 16:47:12 ;\t Personalice su foto de perfil con la campaña #LaPazSiEsContigo https://t.co/9Co8YsqaTl \n",
      "\n",
      "2016-08-25 18:14:04 ;\t RT @CAHUCOPANA: Buenos días! El país respira #Paz . En el plebiscito nosotros votamos SI  https://t.co/klpo5Nb94Y \n",
      "\n",
      "2016-08-30 18:18:22 ;\t Con el acuerdo sobre víctimas del conflicto habrá verdad, justicia y reparación #YoMarcoSÍ https://t.co/FK51Pvdnoi \n",
      "\n",
      "2016-08-03 14:21:50 ;\t #ForjandoPaz en Cantagallo, Bolívar: Socialización acuerdos de Paz con los presidentes de Juntas de Acción Comunal https://t.co/Buf1t3bEVo \n",
      "\n",
      "2016-08-01 22:05:47 ;\t #QuéNota La escuela y su papel en el proceso de paz https://t.co/1sxLfQHJZR \n",
      "\n",
      "2016-09-12 14:02:44 ;\t Con la Paz le vamos a dar una mano a las familias campesinas que han sufrido el abandono del Estado #ColombiaDiceSÍ https://t.co/o8QDrCvO8n \n",
      "\n",
      "2016-08-12 11:34:08 ;\t #BuenViernes para conocer como es la ruta del plebiscito por la paz en esta #PAZografía https://t.co/vLyF21wWfj \n",
      "\n",
      "2016-08-31 13:40:22 ;\t RT @HaroldGarcia95: Seguimos comunicando para la paz espera este martes un nuevo #HablemosDePaz con @FORJANDOPAZ https://t.co/YBv1nwyNut \n",
      "\n",
      "2016-09-06 16:58:05 ;\t #PAZografías #ForjandoPAZ sobre los acuerdos que dan fin a la guerra  ¡Vamos Colombia! https://t.co/tLJfuBy8zz \n",
      "\n",
      "2016-09-12 15:11:32 ;\t #ColombiaDiceSÍ para que se acabe la guerra y tener la oportunidad de un nuevo país para nuestros hijos https://t.co/x5mpHQs9Gc \n",
      "\n",
      "2016-09-05 22:58:09 ;\t La oportunidad es ahora, la decisión es nuestra, vamos por el SÍ que es nuestro derecho #SiSasPorLaPaz https://t.co/xpjJ7u4I23 \n",
      "\n",
      "2016-09-11 19:14:12 ;\t \"Que el país disfrute en paz y alegría\" mando a decir @NairoQuinCo desde Madrid https://t.co/ttOo12Kqkr \n",
      "\n",
      "2016-08-25 00:18:53 ;\t En Nariño también se vive el anuncio del acuerdo final, integral y definitivo para la paz en Colombia #GanandoLaPaz https://t.co/bVFUKqYe8z \n",
      "\n",
      "2016-09-12 12:52:04 ;\t RT @williambolivar7: POR TODOS ELLOS VOTARÉ SÍ AL ACUERDO Q TERMINA EL CONFLICTO @yocreoenlapazco @FORJANDOPAZ @SoyJovenDePazCo @AhoraPaz h… \n",
      "\n",
      "2016-08-12 12:08:10 ;\t #BuenViernes para conocer como en los acuerdos de Paz se define una solución integral al problema de las drogas https://t.co/C0JoL1I12e \n",
      "\n",
      "2016-08-08 22:23:53 ;\t Los jóvenes le decimos si a la Paz porque estamos listos para construir un nuevo país #LaPazSíEsContigo https://t.co/7Q6IxYpqOb \n",
      "\n",
      "2016-09-09 15:21:06 ;\t Inscribiendo nuestro comité de campaña la #LaPazSíEsContigo. La fiesta del SÍ más encendida que nunca https://t.co/Uojv6cDVda \n",
      "\n",
      "2016-08-24 15:06:08 ;\t Así funciona la mesa que esta por terminar con la guerra en Colombia  #AdiosALaGuerra #PazenColombia #AcuerdoFinal  https://t.co/Yj4spFEoc0 \n",
      "\n",
      "2016-09-05 19:31:55 ;\t Hágale pues, SÍ a la paz   Desde el Nordeste Antioqueño estamos #ForjandoPaz https://t.co/MQ1Qgy4Hb0 \n",
      "\n",
      "2016-09-06 20:41:53 ;\t Así funcionó la mesa que esta por terminar con la guerra en Colombia #SÍGanaColombia https://t.co/Yj4spFEoc0 \n",
      "\n",
      "2016-08-31 19:58:17 ;\t Los niños en Colombia ahora SÍ van a conocer algo diferente a la guerra #PorElSÍ https://t.co/9RwerlTzWz \n",
      "\n",
      "2016-08-02 14:14:13 ;\t #ForjandoPaz: Campaña Nacional, vamos caminando https://t.co/GbPNpGMx4U \n",
      "\n",
      "2016-08-06 23:06:34 ;\t En el Simón Bolívar estamos haciendo la verdadera encuesta y hasta ahora todos reciben el sticker de #VotaSÍaLaPaz https://t.co/Tgm1w1a9oD \n",
      "\n",
      "2016-08-30 13:12:46 ;\t RT @luiscano: Explica @FORJANDOPAZ y @MagicMarkersPro,¿Cómo será el Desarrollo agrario? #FinDeLaGuerra #ProcesoDePaz #Plebiscito https://t.… \n",
      "\n",
      "2016-08-29 17:47:17 ;\t #AcuerdosDePaz: Educación de calidad para los niños y jóvenes Campesinos   #LaPazSiEsContigo https://t.co/m4P0BOGIJl \n",
      "\n",
      "2016-08-11 17:11:15 ;\t Preparando la pedagogía de Paz y la campaña por el SÍ en Barrancabermeja   Estamos #ForjandoPaz https://t.co/OFqUieCz5A \n",
      "\n",
      "2016-09-01 14:59:33 ;\t Se acaba la guerra, florece la vida y la esperanza #SÍGanaColombia #ElSideTodos https://t.co/2zkdH2lp5Z \n",
      "\n",
      "2016-08-31 20:03:34 ;\t #PorElSÍ   ¿Qué se acordó en La Habana? R/: Construir infraestructura nacional para el desarrollo del agro https://t.co/E1iXEgU36W \n",
      "\n",
      "2016-08-10 21:49:41 ;\t El 74% de los Colombianos votaran SÍ al fin de la guerra #PAZografía https://t.co/jfYyXsobvO \n",
      "\n",
      "2016-08-15 16:25:45 ;\t Encuentro de Forjadoras de paz: La paz tiene rostro de mujer https://t.co/BNTFWvPQ6L \n",
      "\n",
      "2016-08-12 12:33:45 ;\t #BuenViernes Organismos internacionales, cortes y academia escogeran el Tribunal Especial de Paz encargado de aplicar la justicia \n",
      "\n",
      "2016-09-09 23:44:24 ;\t RT @SoyJovenDePazCo: Hoy 1 pm Plaza de Bolívar concierto por la paz. Todos invitados! RT @Mariia_Monica @CristianRivasDi @Pacifistacol http… \n",
      "\n",
      "2016-09-06 19:47:17 ;\t 5 puntos son transversales a los acuerdos de paz de La Habana, conocelos en esta #PAZografía #SÍGanaColombia https://t.co/jffXPg3JbC \n",
      "\n",
      "2016-08-17 21:12:14 ;\t Las zonas de concentración y normalización no superan 400Km2 y sólo duraran 180 días https://t.co/F56G6KHCwi \n",
      "\n",
      "2016-09-09 23:57:33 ;\t Votar SÍ es el primer paso para deshacernos del odio, superarnos como sociedad e ir por la verdadera paz https://t.co/tibJAjJyoh \n",
      "\n",
      "2016-08-24 22:01:57 ;\t #GanandoLaPaz Las zonas de concentración y normalización no superan 400Km2 y sólo duraran 180 días https://t.co/F56G6KHCwi \n",
      "\n",
      "2016-08-19 16:17:07 ;\t 8'000.000 de víctimas registradas ha dejado la guerra en Colombia, es hora de la paz #LaPazSíEsContigo #VotaSÍaLaPaz https://t.co/nLH2iCHwKG \n",
      "\n",
      "2016-09-08 15:07:13 ;\t Mira nuestras #PAZografías que resumen gráficamente el proceso de PAZ con las FARC https://t.co/tLJfuBy8zz https://t.co/bOepHftgmJ \n",
      "\n",
      "2016-08-25 00:12:18 ;\t Termina la guerra de las armas y comienza el capítulo de esperanza, la construcción de un nuevo país #GanandoLaPaz https://t.co/lAv68OSJmh \n",
      "\n",
      "2016-09-09 11:19:30 ;\t #BuenViernes Infórmese, vote bien ⏩ https://t.co/A9VAUkuyw3 \n",
      "\n",
      "2016-09-06 18:14:42 ;\t En este video te contamos que se acordo en La Habana en el punto No 1 sobre el desarrollo del agro en Colombia https://t.co/E1iXEgU36W \n",
      "\n",
      "2016-08-08 02:49:21 ;\t \"El modelo de justicia de los acuerdos de paz busca la reparación de las víctimas\" #LaPazSíEsContigo https://t.co/N62XFuZrJG \n",
      "\n",
      "2016-09-10 18:03:22 ;\t El SÍ es una fiesta y ya le hicieron canción, escuchala AQUÍ ⏩ https://t.co/Jmwk7a0RnO \n",
      "\n",
      "2016-08-18 14:37:56 ;\t Algo bueno esta pasando en nuestra Colombia tierra querida  #ForjandoPaz https://t.co/fg5IoRCmBU \n",
      "\n",
      "2016-08-10 22:56:59 ;\t Socialización de los Acuerdos de Paz a 450 estudiantes del colegio Melanie Klein School de Mosquera #ForjandoPaz https://t.co/7MRdO7xQhx \n",
      "\n",
      "2016-09-09 20:24:47 ;\t La Paz da garantías para que las familias campesinas vuelvan a trabajar la tierra dignamente #SiAlSonDePaz https://t.co/sMn7CTWdM2 \n",
      "\n",
      "2016-09-01 14:02:55 ;\t Con la Paz #SÍGanaColombia https://t.co/T33N6oG1C1 \n",
      "\n",
      "2016-08-19 23:20:49 ;\t Sonríe Colombia que algo bueno está pasando #SeAcabaLaGuerra https://t.co/lESqjzSz59 \n",
      "\n",
      "2016-08-06 17:01:35 ;\t Encendimos la #LlamaPorLaPaz en Sandoná Territorio de Paz ante más de 4.000 personas   Estamos #ForjandoPaz https://t.co/pmKeNsmHqa \n",
      "\n",
      "2016-09-10 19:52:18 ;\t Tenemos la oportunidad de crear una realidad nueva que nunca hemos vivido #ColombiaSiembraPaz https://t.co/w7p0fCEO5b \n",
      "\n",
      "2016-09-06 20:39:45 ;\t #SÍGanaColombia Así se debera transformar la institucionalidad para cumplir los acuerdos de paz de La Habana https://t.co/5BG0BPGwzW \n",
      "\n",
      "2016-08-19 20:26:34 ;\t Después de firmar la paz se inicia la concentración de las FARC en 23 zonas veredales para la dejación de las armas https://t.co/ht8vYrohj3 \n",
      "\n",
      "2016-08-24 21:59:53 ;\t Los jóvenes le decimos si a la Paz porque estamos listos para construir un nuevo país #GanandoLaPaz https://t.co/7Q6IxYpqOb \n",
      "\n",
      "2016-08-08 02:22:52 ;\t \"La justicia definida en el acuerdo de paz es una herramienta para reconstruir la verdadera historia del Conflicto\" https://t.co/N62XFuZrJG \n",
      "\n",
      "2016-08-26 14:23:17 ;\t \"Colombie : un accord de paix historique enfin conclu avec les Farc\" https://t.co/iF8emkci9C \n",
      "\n",
      "2016-08-03 21:03:10 ;\t #MisRazonesParaVotarSÍ Porque las zonas de concentración y normalización no superan 400Km2 y sólo duraran 180 días https://t.co/F56G6KHCwi \n",
      "\n",
      "2016-08-24 12:32:47 ;\t #FelizMiercoles #AcuerdoFinal   ¿Quieres saber acerca del proceso de paz en La Habana? Revisa estas #PAZografías https://t.co/tLJfuBy8zz \n",
      "\n",
      "2016-08-16 17:48:17 ;\t En los acuerdos de Paz de La Habana se define una solución integral al problema de las drogas https://t.co/C0JoL1I12e \n",
      "\n",
      "2016-08-24 16:38:41 ;\t #GanandoLaPaz nos vemos HOY en el parque de los Hippies en Bogotá, comienza la fiesta del SÍ  #AdiosALaGuerra https://t.co/Iv7TNBYrhS \n",
      "\n",
      "2016-08-13 20:16:00 ;\t Caquetá: Tierra firme y fértil para la construcción de la Paz #Forjando PAZ https://t.co/LDerQ4LYIq \n",
      "\n",
      "2016-08-31 00:49:51 ;\t #LaPazLaMejorOportunidad para que los niños y jóvenes Campesinos tengan acceso a educación de calidad https://t.co/ztGgap5qHC \n",
      "\n",
      "2016-08-31 17:59:42 ;\t Las zonas de concentración y normalización no superan 400Km2 y sólo duraran 180 días #PorElSÍ https://t.co/F56G6KHCwi \n",
      "\n",
      "2016-09-08 19:56:05 ;\t Visita nuestra página web e infórmese sobre el proceso de paz entre el Gobierno y las FARC https://t.co/hczRLN6uaB https://t.co/IrXnjTkbXj \n",
      "\n",
      "2016-09-12 12:51:44 ;\t RT @Ta_Aguilera: Excelente serie de vídeos sobre él procesos de paz, recomendados. https://t.co/Rg57D20PFK \n",
      "\n",
      "2016-08-24 23:45:22 ;\t Lleno total en Bogotá en este día histórico en el que se anuncia la paz estable y duradera en Colombia #GanandoLaPaz https://t.co/HQdXKOhvus \n",
      "\n",
      "2016-08-24 15:04:34 ;\t RT @KarteagaG: Hpy 6 pm todos vamos a celebrar #AcuerdoFinal https://t.co/OMjEl2h7eM \n",
      "\n",
      "2016-09-09 15:23:35 ;\t Sonríe Colombia que algo bueno está pasando, llegó la alegría y la fiesta a la Campaña del SÍ #LaPazSiEsContigo https://t.co/NY23GxA9li \n",
      "\n"
     ]
    }
   ],
   "source": [
    "eligetuits(dh3, 0.2);"
   ]
  },
  {
   "cell_type": "code",
   "execution_count": 41,
   "metadata": {},
   "outputs": [],
   "source": [
    "with open('writeData.csv', mode='w', newline=\"\") as file:\n",
    "    writer = csv.writer(file, delimiter=\",\")\n",
    "\n",
    "    #way to write to csv file\n",
    "    writer.writerow(tt)"
   ]
  },
  {
   "cell_type": "code",
   "execution_count": null,
   "metadata": {},
   "outputs": [],
   "source": []
  },
  {
   "cell_type": "code",
   "execution_count": 43,
   "metadata": {},
   "outputs": [
    {
     "name": "stdout",
     "output_type": "stream",
     "text": [
      "tuits primera parte 94\n",
      "tuits primera parte 239\n",
      "tuits primera parte 509\n"
     ]
    }
   ],
   "source": [
    "print(\"tuits primera parte\", int((df1.shape[0]+dg1.shape[0]+dh1.shape[0])*0.2))\n",
    "print(\"tuits primera parte\", int((df2.shape[0]+dg2.shape[0]+dh2.shape[0])*0.2))\n",
    "print(\"tuits primera parte\", int((df3.shape[0]+dg3.shape[0]+dh3.shape[0])*0.2))"
   ]
  },
  {
   "cell_type": "code",
   "execution_count": null,
   "metadata": {},
   "outputs": [],
   "source": []
  },
  {
   "cell_type": "markdown",
   "metadata": {},
   "source": [
    "# Tuits del NO"
   ]
  },
  {
   "cell_type": "markdown",
   "metadata": {},
   "source": [
    "### La tal Paz"
   ]
  },
  {
   "cell_type": "code",
   "execution_count": 44,
   "metadata": {
    "scrolled": true
   },
   "outputs": [
    {
     "data": {
      "text/html": [
       "<div>\n",
       "<style scoped>\n",
       "    .dataframe tbody tr th:only-of-type {\n",
       "        vertical-align: middle;\n",
       "    }\n",
       "\n",
       "    .dataframe tbody tr th {\n",
       "        vertical-align: top;\n",
       "    }\n",
       "\n",
       "    .dataframe thead th {\n",
       "        text-align: right;\n",
       "    }\n",
       "</style>\n",
       "<table border=\"1\" class=\"dataframe\">\n",
       "  <thead>\n",
       "    <tr style=\"text-align: right;\">\n",
       "      <th></th>\n",
       "      <th>created_at</th>\n",
       "      <th>favorite_count</th>\n",
       "      <th>followers_count</th>\n",
       "      <th>id_str</th>\n",
       "      <th>in_reply_to_screen_name</th>\n",
       "      <th>retweet_count</th>\n",
       "      <th>screen_name</th>\n",
       "      <th>text</th>\n",
       "    </tr>\n",
       "  </thead>\n",
       "  <tbody>\n",
       "    <tr>\n",
       "      <th>0</th>\n",
       "      <td>2018-05-22 23:33:15</td>\n",
       "      <td>1</td>\n",
       "      <td>8753</td>\n",
       "      <td>999070719232434176</td>\n",
       "      <td>None</td>\n",
       "      <td>2</td>\n",
       "      <td>latalpas</td>\n",
       "      <td>Hasta el que redacto la falsa paz; afirma que ...</td>\n",
       "    </tr>\n",
       "    <tr>\n",
       "      <th>1</th>\n",
       "      <td>2018-05-20 23:51:15</td>\n",
       "      <td>0</td>\n",
       "      <td>8753</td>\n",
       "      <td>998350473152221184</td>\n",
       "      <td>isislopez_1983</td>\n",
       "      <td>0</td>\n",
       "      <td>latalpas</td>\n",
       "      <td>@isislopez_1983 @argiro1961 Mucho guevon cree ...</td>\n",
       "    </tr>\n",
       "    <tr>\n",
       "      <th>2</th>\n",
       "      <td>2018-05-17 15:14:20</td>\n",
       "      <td>0</td>\n",
       "      <td>8753</td>\n",
       "      <td>997133220952133632</td>\n",
       "      <td>None</td>\n",
       "      <td>21</td>\n",
       "      <td>latalpas</td>\n",
       "      <td>RT @papel_periodico: La JEP suspende la extrad...</td>\n",
       "    </tr>\n",
       "    <tr>\n",
       "      <th>3</th>\n",
       "      <td>2018-05-17 13:45:25</td>\n",
       "      <td>0</td>\n",
       "      <td>8753</td>\n",
       "      <td>997110843199442944</td>\n",
       "      <td>None</td>\n",
       "      <td>344</td>\n",
       "      <td>latalpas</td>\n",
       "      <td>RT @jorgeborjajp: Para mí la JEP no es más que...</td>\n",
       "    </tr>\n",
       "    <tr>\n",
       "      <th>4</th>\n",
       "      <td>2018-05-17 06:12:06</td>\n",
       "      <td>0</td>\n",
       "      <td>8753</td>\n",
       "      <td>996996762111021056</td>\n",
       "      <td>None</td>\n",
       "      <td>469</td>\n",
       "      <td>latalpas</td>\n",
       "      <td>RT @jbagbam74: Que las Farc sacaran 50.000 vot...</td>\n",
       "    </tr>\n",
       "  </tbody>\n",
       "</table>\n",
       "</div>"
      ],
      "text/plain": [
       "           created_at  favorite_count  followers_count              id_str  \\\n",
       "0 2018-05-22 23:33:15               1             8753  999070719232434176   \n",
       "1 2018-05-20 23:51:15               0             8753  998350473152221184   \n",
       "2 2018-05-17 15:14:20               0             8753  997133220952133632   \n",
       "3 2018-05-17 13:45:25               0             8753  997110843199442944   \n",
       "4 2018-05-17 06:12:06               0             8753  996996762111021056   \n",
       "\n",
       "  in_reply_to_screen_name  retweet_count screen_name  \\\n",
       "0                    None              2    latalpas   \n",
       "1          isislopez_1983              0    latalpas   \n",
       "2                    None             21    latalpas   \n",
       "3                    None            344    latalpas   \n",
       "4                    None            469    latalpas   \n",
       "\n",
       "                                                text  \n",
       "0  Hasta el que redacto la falsa paz; afirma que ...  \n",
       "1  @isislopez_1983 @argiro1961 Mucho guevon cree ...  \n",
       "2  RT @papel_periodico: La JEP suspende la extrad...  \n",
       "3  RT @jorgeborjajp: Para mí la JEP no es más que...  \n",
       "4  RT @jbagbam74: Que las Farc sacaran 50.000 vot...  "
      ]
     },
     "execution_count": 44,
     "metadata": {},
     "output_type": "execute_result"
    }
   ],
   "source": [
    "da= pd.read_json(r\"latalpaz.json\")\n",
    "da.head()"
   ]
  },
  {
   "cell_type": "code",
   "execution_count": 45,
   "metadata": {
    "scrolled": false
   },
   "outputs": [
    {
     "name": "stdout",
     "output_type": "stream",
     "text": [
      "<class 'pandas.core.frame.DataFrame'>\n",
      "RangeIndex: 3185 entries, 0 to 3184\n",
      "Data columns (total 8 columns):\n",
      " #   Column                   Non-Null Count  Dtype         \n",
      "---  ------                   --------------  -----         \n",
      " 0   created_at               3185 non-null   datetime64[ns]\n",
      " 1   favorite_count           3185 non-null   int64         \n",
      " 2   followers_count          3185 non-null   int64         \n",
      " 3   id_str                   3185 non-null   int64         \n",
      " 4   in_reply_to_screen_name  227 non-null    object        \n",
      " 5   retweet_count            3185 non-null   int64         \n",
      " 6   screen_name              3185 non-null   object        \n",
      " 7   text                     3185 non-null   object        \n",
      "dtypes: datetime64[ns](1), int64(4), object(3)\n",
      "memory usage: 199.2+ KB\n"
     ]
    }
   ],
   "source": [
    "da.info()"
   ]
  },
  {
   "cell_type": "code",
   "execution_count": 46,
   "metadata": {},
   "outputs": [],
   "source": [
    "da_cut= da[da[\"created_at\"]<\"2016-10-02\"]\n",
    "da1=da[(da[\"created_at\"]>=\"2016-01-01 00:00:00\") & (da[\"created_at\"]<=\"2016-04-30 23:59:59\")]\n",
    "da2=da[(da[\"created_at\"]>=\"2016-05-01 00:00:00\") & (da[\"created_at\"]<=\"2016-07-31 23:59:59\")]\n",
    "da3=da[(da[\"created_at\"]>=\"2016-08-01 00:00:00\") & (da[\"created_at\"]<=\"2016-10-02 23:59:59\")]"
   ]
  },
  {
   "cell_type": "code",
   "execution_count": 47,
   "metadata": {},
   "outputs": [
    {
     "name": "stdout",
     "output_type": "stream",
     "text": [
      "numero total de tuits 3185\n",
      "numero de tuits hasta el 02-10 1059\n",
      "numero de tuits, primer periodo 443\n",
      "numero de tuits, segundo periodo 436\n",
      "numero de tuits, tercer periodo 186\n"
     ]
    }
   ],
   "source": [
    "print(\"numero total de tuits\", da.shape[0])\n",
    "print(\"numero de tuits hasta el 02-10\", da_cut.shape[0])\n",
    "print(\"numero de tuits, primer periodo\", da1.shape[0])\n",
    "print(\"numero de tuits, segundo periodo\", da2.shape[0])\n",
    "print(\"numero de tuits, tercer periodo\", da3.shape[0])"
   ]
  },
  {
   "cell_type": "code",
   "execution_count": 48,
   "metadata": {
    "scrolled": false
   },
   "outputs": [
    {
     "data": {
      "image/png": "[encoded data removed]",
      "text/plain": [
       "<Figure size 720x576 with 1 Axes>"
      ]
     },
     "metadata": {
      "needs_background": "light"
     },
     "output_type": "display_data"
    }
   ],
   "source": [
    "plt.figure(figsize=(10,8))\n",
    "#plt.hist(da_cut[\"created_at\"], bins=25, histtype='step', color=\"b\", linewidth=2, fill=False);\n",
    "plt.hist(da1[\"created_at\"], bins=5, histtype='step', color=\"m\", linewidth=1, fill=True);\n",
    "plt.hist(da2[\"created_at\"], bins=8, histtype='step', color=\"darkblue\", linewidth=1, fill=True);\n",
    "plt.hist(da3[\"created_at\"], bins=8, histtype='step', color=\"b\", linewidth=1, fill=True)\n",
    "plt.xlabel(\"Fecha de creación del tuit\")\n",
    "plt.ylabel(\"Número de tuits\")\n",
    "plt.show()"
   ]
  },
  {
   "cell_type": "code",
   "execution_count": 49,
   "metadata": {},
   "outputs": [
    {
     "data": {
      "text/plain": [
       "'RT @plebisantos: Señores terroristas FARC, ustedes por que firmaron la tal pas con Santos, pero no con Uribe y Pastrana ? Es que nos regala…'"
      ]
     },
     "execution_count": 49,
     "metadata": {},
     "output_type": "execute_result"
    }
   ],
   "source": [
    "da.iloc[10, 7]"
   ]
  },
  {
   "cell_type": "code",
   "execution_count": 50,
   "metadata": {},
   "outputs": [
    {
     "data": {
      "text/plain": [
       "8206"
      ]
     },
     "execution_count": 50,
     "metadata": {},
     "output_type": "execute_result"
    }
   ],
   "source": [
    "#df[\"retweet_count\"].max()\n",
    "np.max(da[\"retweet_count\"])"
   ]
  },
  {
   "cell_type": "code",
   "execution_count": 51,
   "metadata": {},
   "outputs": [],
   "source": [
    "da_RT= da[da[\"retweet_count\"]==8206]"
   ]
  },
  {
   "cell_type": "code",
   "execution_count": 52,
   "metadata": {},
   "outputs": [
    {
     "data": {
      "text/html": [
       "<div>\n",
       "<style scoped>\n",
       "    .dataframe tbody tr th:only-of-type {\n",
       "        vertical-align: middle;\n",
       "    }\n",
       "\n",
       "    .dataframe tbody tr th {\n",
       "        vertical-align: top;\n",
       "    }\n",
       "\n",
       "    .dataframe thead th {\n",
       "        text-align: right;\n",
       "    }\n",
       "</style>\n",
       "<table border=\"1\" class=\"dataframe\">\n",
       "  <thead>\n",
       "    <tr style=\"text-align: right;\">\n",
       "      <th></th>\n",
       "      <th>created_at</th>\n",
       "      <th>favorite_count</th>\n",
       "      <th>followers_count</th>\n",
       "      <th>id_str</th>\n",
       "      <th>in_reply_to_screen_name</th>\n",
       "      <th>retweet_count</th>\n",
       "      <th>screen_name</th>\n",
       "      <th>text</th>\n",
       "    </tr>\n",
       "  </thead>\n",
       "  <tbody>\n",
       "    <tr>\n",
       "      <th>1842</th>\n",
       "      <td>2017-04-24 04:21:01</td>\n",
       "      <td>0</td>\n",
       "      <td>8753</td>\n",
       "      <td>856362315809206272</td>\n",
       "      <td>None</td>\n",
       "      <td>8206</td>\n",
       "      <td>latalpas</td>\n",
       "      <td>RT @MariaCorinaYA: Régimen busca desdesperadam...</td>\n",
       "    </tr>\n",
       "  </tbody>\n",
       "</table>\n",
       "</div>"
      ],
      "text/plain": [
       "              created_at  favorite_count  followers_count              id_str  \\\n",
       "1842 2017-04-24 04:21:01               0             8753  856362315809206272   \n",
       "\n",
       "     in_reply_to_screen_name  retweet_count screen_name  \\\n",
       "1842                    None           8206    latalpas   \n",
       "\n",
       "                                                   text  \n",
       "1842  RT @MariaCorinaYA: Régimen busca desdesperadam...  "
      ]
     },
     "execution_count": 52,
     "metadata": {},
     "output_type": "execute_result"
    }
   ],
   "source": [
    "da_RT.head()"
   ]
  },
  {
   "cell_type": "code",
   "execution_count": 53,
   "metadata": {
    "scrolled": false
   },
   "outputs": [
    {
     "name": "stdout",
     "output_type": "stream",
     "text": [
      "RT @MariaCorinaYA: Régimen busca desdesperadamente ganar tiempo,desactivar la presión d la calle y distraernos d nuestro único objetivo: la…\n"
     ]
    }
   ],
   "source": [
    "print(da.iloc[1842, 7])"
   ]
  },
  {
   "cell_type": "markdown",
   "metadata": {},
   "source": [
    "### La tal Paz"
   ]
  },
  {
   "cell_type": "code",
   "execution_count": 54,
   "metadata": {
    "scrolled": true
   },
   "outputs": [
    {
     "data": {
      "text/html": [
       "<div>\n",
       "<style scoped>\n",
       "    .dataframe tbody tr th:only-of-type {\n",
       "        vertical-align: middle;\n",
       "    }\n",
       "\n",
       "    .dataframe tbody tr th {\n",
       "        vertical-align: top;\n",
       "    }\n",
       "\n",
       "    .dataframe thead th {\n",
       "        text-align: right;\n",
       "    }\n",
       "</style>\n",
       "<table border=\"1\" class=\"dataframe\">\n",
       "  <thead>\n",
       "    <tr style=\"text-align: right;\">\n",
       "      <th></th>\n",
       "      <th>created_at</th>\n",
       "      <th>favorite_count</th>\n",
       "      <th>followers_count</th>\n",
       "      <th>id_str</th>\n",
       "      <th>in_reply_to_screen_name</th>\n",
       "      <th>retweet_count</th>\n",
       "      <th>screen_name</th>\n",
       "      <th>text</th>\n",
       "    </tr>\n",
       "  </thead>\n",
       "  <tbody>\n",
       "    <tr>\n",
       "      <th>0</th>\n",
       "      <td>2018-05-23 04:03:54</td>\n",
       "      <td>0</td>\n",
       "      <td>1046</td>\n",
       "      <td>999138827326382080</td>\n",
       "      <td>None</td>\n",
       "      <td>1640</td>\n",
       "      <td>UniversidadesCD</td>\n",
       "      <td>RT @Lizz_Bennet: Mi hijo aún no tenía definido...</td>\n",
       "    </tr>\n",
       "    <tr>\n",
       "      <th>1</th>\n",
       "      <td>2018-05-23 04:02:49</td>\n",
       "      <td>0</td>\n",
       "      <td>1046</td>\n",
       "      <td>999138557452345344</td>\n",
       "      <td>None</td>\n",
       "      <td>1059</td>\n",
       "      <td>UniversidadesCD</td>\n",
       "      <td>RT @AlfredoRamosM: La Senadora/candidata a que...</td>\n",
       "    </tr>\n",
       "    <tr>\n",
       "      <th>2</th>\n",
       "      <td>2018-05-21 22:54:09</td>\n",
       "      <td>0</td>\n",
       "      <td>1046</td>\n",
       "      <td>998698487993774080</td>\n",
       "      <td>None</td>\n",
       "      <td>1380</td>\n",
       "      <td>UniversidadesCD</td>\n",
       "      <td>RT @IvanDuque: Yo no tengo compromisos de mini...</td>\n",
       "    </tr>\n",
       "    <tr>\n",
       "      <th>3</th>\n",
       "      <td>2018-05-21 13:46:07</td>\n",
       "      <td>0</td>\n",
       "      <td>1046</td>\n",
       "      <td>998560572546437120</td>\n",
       "      <td>None</td>\n",
       "      <td>806</td>\n",
       "      <td>UniversidadesCD</td>\n",
       "      <td>RT @IvanDuque: ¡Gracias, Bogotá! Aquí estamos ...</td>\n",
       "    </tr>\n",
       "    <tr>\n",
       "      <th>4</th>\n",
       "      <td>2018-05-21 13:46:05</td>\n",
       "      <td>0</td>\n",
       "      <td>1046</td>\n",
       "      <td>998560562610102272</td>\n",
       "      <td>None</td>\n",
       "      <td>18199</td>\n",
       "      <td>UniversidadesCD</td>\n",
       "      <td>RT @marcorubio: El 20 de Mayo una farsa total ...</td>\n",
       "    </tr>\n",
       "  </tbody>\n",
       "</table>\n",
       "</div>"
      ],
      "text/plain": [
       "           created_at  favorite_count  followers_count              id_str  \\\n",
       "0 2018-05-23 04:03:54               0             1046  999138827326382080   \n",
       "1 2018-05-23 04:02:49               0             1046  999138557452345344   \n",
       "2 2018-05-21 22:54:09               0             1046  998698487993774080   \n",
       "3 2018-05-21 13:46:07               0             1046  998560572546437120   \n",
       "4 2018-05-21 13:46:05               0             1046  998560562610102272   \n",
       "\n",
       "  in_reply_to_screen_name  retweet_count      screen_name  \\\n",
       "0                    None           1640  UniversidadesCD   \n",
       "1                    None           1059  UniversidadesCD   \n",
       "2                    None           1380  UniversidadesCD   \n",
       "3                    None            806  UniversidadesCD   \n",
       "4                    None          18199  UniversidadesCD   \n",
       "\n",
       "                                                text  \n",
       "0  RT @Lizz_Bennet: Mi hijo aún no tenía definido...  \n",
       "1  RT @AlfredoRamosM: La Senadora/candidata a que...  \n",
       "2  RT @IvanDuque: Yo no tengo compromisos de mini...  \n",
       "3  RT @IvanDuque: ¡Gracias, Bogotá! Aquí estamos ...  \n",
       "4  RT @marcorubio: El 20 de Mayo una farsa total ...  "
      ]
     },
     "execution_count": 54,
     "metadata": {},
     "output_type": "execute_result"
    }
   ],
   "source": [
    "db= pd.read_json(r\"UniversidadesCD.json\")\n",
    "db.head()"
   ]
  },
  {
   "cell_type": "code",
   "execution_count": 55,
   "metadata": {
    "scrolled": false
   },
   "outputs": [
    {
     "name": "stdout",
     "output_type": "stream",
     "text": [
      "<class 'pandas.core.frame.DataFrame'>\n",
      "RangeIndex: 2871 entries, 0 to 2870\n",
      "Data columns (total 8 columns):\n",
      " #   Column                   Non-Null Count  Dtype         \n",
      "---  ------                   --------------  -----         \n",
      " 0   created_at               2871 non-null   datetime64[ns]\n",
      " 1   favorite_count           2871 non-null   int64         \n",
      " 2   followers_count          2871 non-null   int64         \n",
      " 3   id_str                   2871 non-null   int64         \n",
      " 4   in_reply_to_screen_name  21 non-null     object        \n",
      " 5   retweet_count            2871 non-null   int64         \n",
      " 6   screen_name              2871 non-null   object        \n",
      " 7   text                     2871 non-null   object        \n",
      "dtypes: datetime64[ns](1), int64(4), object(3)\n",
      "memory usage: 179.6+ KB\n"
     ]
    }
   ],
   "source": [
    "db.info()"
   ]
  },
  {
   "cell_type": "code",
   "execution_count": 56,
   "metadata": {},
   "outputs": [],
   "source": [
    "db_cut= db[db[\"created_at\"]<\"2016-10-02\"]\n",
    "db1=db[(db[\"created_at\"]>=\"2016-01-01 00:00:00\") & (db[\"created_at\"]<=\"2016-04-30 23:59:59\")]\n",
    "db2=db[(db[\"created_at\"]>=\"2016-05-01 00:00:00\") & (db[\"created_at\"]<=\"2016-07-31 23:59:59\")]\n",
    "db3=db[(db[\"created_at\"]>=\"2016-08-01 00:00:00\") & (db[\"created_at\"]<=\"2016-10-02 23:59:59\")]"
   ]
  },
  {
   "cell_type": "code",
   "execution_count": 57,
   "metadata": {
    "scrolled": true
   },
   "outputs": [
    {
     "name": "stdout",
     "output_type": "stream",
     "text": [
      "numero total de tuits 2871\n",
      "numero de tuits hasta el 02-10 492\n",
      "numero de tuits, primer periodo 194\n",
      "numero de tuits, segundo periodo 209\n",
      "numero de tuits, tercer periodo 93\n"
     ]
    }
   ],
   "source": [
    "print(\"numero total de tuits\", db.shape[0])\n",
    "print(\"numero de tuits hasta el 02-10\", db_cut.shape[0])\n",
    "print(\"numero de tuits, primer periodo\", db1.shape[0])\n",
    "print(\"numero de tuits, segundo periodo\", db2.shape[0])\n",
    "print(\"numero de tuits, tercer periodo\", db3.shape[0])"
   ]
  },
  {
   "cell_type": "code",
   "execution_count": 58,
   "metadata": {
    "scrolled": false
   },
   "outputs": [
    {
     "data": {
      "image/png": "[encoded data removed]",
      "text/plain": [
       "<Figure size 720x576 with 1 Axes>"
      ]
     },
     "metadata": {
      "needs_background": "light"
     },
     "output_type": "display_data"
    }
   ],
   "source": [
    "plt.figure(figsize=(10,8))\n",
    "#plt.hist(db_cut[\"created_at\"], bins=25, histtype='step', color=\"b\", linewidth=2, fill=False);\n",
    "plt.hist(db1[\"created_at\"], bins=5, histtype='step', color=\"m\", linewidth=1, fill=True);\n",
    "plt.hist(db2[\"created_at\"], bins=8, histtype='step', color=\"darkblue\", linewidth=1, fill=True);\n",
    "plt.hist(db3[\"created_at\"], bins=8, histtype='step', color=\"b\", linewidth=1, fill=True)\n",
    "plt.xlabel(\"Fecha de creación del tuit\")\n",
    "plt.ylabel(\"Número de tuits\")\n",
    "plt.show()"
   ]
  },
  {
   "cell_type": "code",
   "execution_count": 59,
   "metadata": {
    "scrolled": true
   },
   "outputs": [
    {
     "data": {
      "text/plain": [
       "'RT @mluciaramirez: Que no nos quepa ninguna duda: Cuando Petro dice que va a comprarle a algunos colombianos sus propiedades a las buenas o…'"
      ]
     },
     "execution_count": 59,
     "metadata": {},
     "output_type": "execute_result"
    }
   ],
   "source": [
    "db.iloc[10, 7]"
   ]
  },
  {
   "cell_type": "code",
   "execution_count": 60,
   "metadata": {},
   "outputs": [
    {
     "data": {
      "text/plain": [
       "25820"
      ]
     },
     "execution_count": 60,
     "metadata": {},
     "output_type": "execute_result"
    }
   ],
   "source": [
    "#df[\"retweet_count\"].max()\n",
    "np.max(db[\"retweet_count\"])"
   ]
  },
  {
   "cell_type": "code",
   "execution_count": 61,
   "metadata": {},
   "outputs": [],
   "source": [
    "db_RT= db[db[\"retweet_count\"]==25820]"
   ]
  },
  {
   "cell_type": "code",
   "execution_count": 62,
   "metadata": {},
   "outputs": [
    {
     "data": {
      "text/html": [
       "<div>\n",
       "<style scoped>\n",
       "    .dataframe tbody tr th:only-of-type {\n",
       "        vertical-align: middle;\n",
       "    }\n",
       "\n",
       "    .dataframe tbody tr th {\n",
       "        vertical-align: top;\n",
       "    }\n",
       "\n",
       "    .dataframe thead th {\n",
       "        text-align: right;\n",
       "    }\n",
       "</style>\n",
       "<table border=\"1\" class=\"dataframe\">\n",
       "  <thead>\n",
       "    <tr style=\"text-align: right;\">\n",
       "      <th></th>\n",
       "      <th>created_at</th>\n",
       "      <th>favorite_count</th>\n",
       "      <th>followers_count</th>\n",
       "      <th>id_str</th>\n",
       "      <th>in_reply_to_screen_name</th>\n",
       "      <th>retweet_count</th>\n",
       "      <th>screen_name</th>\n",
       "      <th>text</th>\n",
       "    </tr>\n",
       "  </thead>\n",
       "  <tbody>\n",
       "    <tr>\n",
       "      <th>1928</th>\n",
       "      <td>2017-03-30 22:48:37</td>\n",
       "      <td>0</td>\n",
       "      <td>1046</td>\n",
       "      <td>847581358469693440</td>\n",
       "      <td>None</td>\n",
       "      <td>25820</td>\n",
       "      <td>UniversidadesCD</td>\n",
       "      <td>RT @ppkamigo: Condeno la ruptura de la democra...</td>\n",
       "    </tr>\n",
       "  </tbody>\n",
       "</table>\n",
       "</div>"
      ],
      "text/plain": [
       "              created_at  favorite_count  followers_count              id_str  \\\n",
       "1928 2017-03-30 22:48:37               0             1046  847581358469693440   \n",
       "\n",
       "     in_reply_to_screen_name  retweet_count      screen_name  \\\n",
       "1928                    None          25820  UniversidadesCD   \n",
       "\n",
       "                                                   text  \n",
       "1928  RT @ppkamigo: Condeno la ruptura de la democra...  "
      ]
     },
     "execution_count": 62,
     "metadata": {},
     "output_type": "execute_result"
    }
   ],
   "source": [
    "db_RT.head()"
   ]
  },
  {
   "cell_type": "code",
   "execution_count": 63,
   "metadata": {
    "scrolled": false
   },
   "outputs": [
    {
     "name": "stdout",
     "output_type": "stream",
     "text": [
      "RT @ppkamigo: Condeno la ruptura de la democracia en Venezuela. Retiro de manera definitiva a mi Embajador en ese país. https://t.co/SIpJ7J…\n"
     ]
    }
   ],
   "source": [
    "print(db.iloc[1928, 7])"
   ]
  },
  {
   "cell_type": "markdown",
   "metadata": {},
   "source": [
    "### La tal Paz"
   ]
  },
  {
   "cell_type": "code",
   "execution_count": 64,
   "metadata": {
    "scrolled": false
   },
   "outputs": [
    {
     "data": {
      "text/html": [
       "<div>\n",
       "<style scoped>\n",
       "    .dataframe tbody tr th:only-of-type {\n",
       "        vertical-align: middle;\n",
       "    }\n",
       "\n",
       "    .dataframe tbody tr th {\n",
       "        vertical-align: top;\n",
       "    }\n",
       "\n",
       "    .dataframe thead th {\n",
       "        text-align: right;\n",
       "    }\n",
       "</style>\n",
       "<table border=\"1\" class=\"dataframe\">\n",
       "  <thead>\n",
       "    <tr style=\"text-align: right;\">\n",
       "      <th></th>\n",
       "      <th>created_at</th>\n",
       "      <th>favorite_count</th>\n",
       "      <th>followers_count</th>\n",
       "      <th>id_str</th>\n",
       "      <th>in_reply_to_screen_name</th>\n",
       "      <th>retweet_count</th>\n",
       "      <th>screen_name</th>\n",
       "      <th>text</th>\n",
       "    </tr>\n",
       "  </thead>\n",
       "  <tbody>\n",
       "    <tr>\n",
       "      <th>0</th>\n",
       "      <td>2018-10-05 15:25:01</td>\n",
       "      <td>10</td>\n",
       "      <td>7498</td>\n",
       "      <td>1048232597636218880</td>\n",
       "      <td>None</td>\n",
       "      <td>6</td>\n",
       "      <td>MiVotoEsNO</td>\n",
       "      <td>Atentos #Barranquilla hoy vigilia por la liber...</td>\n",
       "    </tr>\n",
       "    <tr>\n",
       "      <th>1</th>\n",
       "      <td>2018-10-05 15:13:45</td>\n",
       "      <td>3</td>\n",
       "      <td>7498</td>\n",
       "      <td>1048229764241272832</td>\n",
       "      <td>None</td>\n",
       "      <td>4</td>\n",
       "      <td>MiVotoEsNO</td>\n",
       "      <td>Atentos #Medellín, hoy a las 6:30 pm, vigilia ...</td>\n",
       "    </tr>\n",
       "    <tr>\n",
       "      <th>2</th>\n",
       "      <td>2018-05-23 22:46:12</td>\n",
       "      <td>1</td>\n",
       "      <td>7498</td>\n",
       "      <td>999421263079755776</td>\n",
       "      <td>paoguerreroi</td>\n",
       "      <td>0</td>\n",
       "      <td>MiVotoEsNO</td>\n",
       "      <td>@paoguerreroi Qué perrito tan dulce, y esas pa...</td>\n",
       "    </tr>\n",
       "    <tr>\n",
       "      <th>3</th>\n",
       "      <td>2018-04-14 15:28:11</td>\n",
       "      <td>3</td>\n",
       "      <td>7498</td>\n",
       "      <td>985177909114662912</td>\n",
       "      <td>None</td>\n",
       "      <td>7</td>\n",
       "      <td>MiVotoEsNO</td>\n",
       "      <td>#NoALasCurulesParaFarc https://t.co/IsFKyLCbmH</td>\n",
       "    </tr>\n",
       "    <tr>\n",
       "      <th>4</th>\n",
       "      <td>2018-04-14 15:25:16</td>\n",
       "      <td>3</td>\n",
       "      <td>7498</td>\n",
       "      <td>985177172213207040</td>\n",
       "      <td>None</td>\n",
       "      <td>0</td>\n",
       "      <td>MiVotoEsNO</td>\n",
       "      <td>#NoALasCurulesParaFarc</td>\n",
       "    </tr>\n",
       "  </tbody>\n",
       "</table>\n",
       "</div>"
      ],
      "text/plain": [
       "           created_at  favorite_count  followers_count               id_str  \\\n",
       "0 2018-10-05 15:25:01              10             7498  1048232597636218880   \n",
       "1 2018-10-05 15:13:45               3             7498  1048229764241272832   \n",
       "2 2018-05-23 22:46:12               1             7498   999421263079755776   \n",
       "3 2018-04-14 15:28:11               3             7498   985177909114662912   \n",
       "4 2018-04-14 15:25:16               3             7498   985177172213207040   \n",
       "\n",
       "  in_reply_to_screen_name  retweet_count screen_name  \\\n",
       "0                    None              6  MiVotoEsNO   \n",
       "1                    None              4  MiVotoEsNO   \n",
       "2            paoguerreroi              0  MiVotoEsNO   \n",
       "3                    None              7  MiVotoEsNO   \n",
       "4                    None              0  MiVotoEsNO   \n",
       "\n",
       "                                                text  \n",
       "0  Atentos #Barranquilla hoy vigilia por la liber...  \n",
       "1  Atentos #Medellín, hoy a las 6:30 pm, vigilia ...  \n",
       "2  @paoguerreroi Qué perrito tan dulce, y esas pa...  \n",
       "3     #NoALasCurulesParaFarc https://t.co/IsFKyLCbmH  \n",
       "4                             #NoALasCurulesParaFarc  "
      ]
     },
     "execution_count": 64,
     "metadata": {},
     "output_type": "execute_result"
    }
   ],
   "source": [
    "dc= pd.read_json(r\"MiVotoEsNo.json\")\n",
    "dc.head()"
   ]
  },
  {
   "cell_type": "code",
   "execution_count": 65,
   "metadata": {
    "scrolled": true
   },
   "outputs": [
    {
     "name": "stdout",
     "output_type": "stream",
     "text": [
      "<class 'pandas.core.frame.DataFrame'>\n",
      "RangeIndex: 3200 entries, 0 to 3199\n",
      "Data columns (total 8 columns):\n",
      " #   Column                   Non-Null Count  Dtype         \n",
      "---  ------                   --------------  -----         \n",
      " 0   created_at               3200 non-null   datetime64[ns]\n",
      " 1   favorite_count           3200 non-null   int64         \n",
      " 2   followers_count          3200 non-null   int64         \n",
      " 3   id_str                   3200 non-null   int64         \n",
      " 4   in_reply_to_screen_name  119 non-null    object        \n",
      " 5   retweet_count            3200 non-null   int64         \n",
      " 6   screen_name              3200 non-null   object        \n",
      " 7   text                     3200 non-null   object        \n",
      "dtypes: datetime64[ns](1), int64(4), object(3)\n",
      "memory usage: 200.1+ KB\n"
     ]
    }
   ],
   "source": [
    "dc.info()"
   ]
  },
  {
   "cell_type": "code",
   "execution_count": 66,
   "metadata": {},
   "outputs": [],
   "source": [
    "dc_cut= dc[dc[\"created_at\"]<\"2016-10-02\"]\n",
    "dc1=dc[(dc[\"created_at\"]>=\"2016-01-01 00:00:00\") & (dc[\"created_at\"]<=\"2016-04-30 23:59:59\")]\n",
    "dc2=dc[(dc[\"created_at\"]>=\"2016-05-01 00:00:00\") & (dc[\"created_at\"]<=\"2016-07-31 23:59:59\")]\n",
    "dc3=dc[(dc[\"created_at\"]>=\"2016-08-01 00:00:00\") & (dc[\"created_at\"]<=\"2016-10-02 23:59:59\")]"
   ]
  },
  {
   "cell_type": "code",
   "execution_count": 67,
   "metadata": {
    "scrolled": true
   },
   "outputs": [
    {
     "name": "stdout",
     "output_type": "stream",
     "text": [
      "numero total de tuits 3200\n",
      "numero de tuits hasta el 02-10 2711\n",
      "numero de tuits, primer periodo 0\n",
      "numero de tuits, segundo periodo 1726\n",
      "numero de tuits, tercer periodo 509\n"
     ]
    }
   ],
   "source": [
    "print(\"numero total de tuits\", dc.shape[0])\n",
    "print(\"numero de tuits hasta el 02-10\", dc_cut.shape[0])\n",
    "print(\"numero de tuits, primer periodo\", dc1.shape[0])\n",
    "print(\"numero de tuits, segundo periodo\", dc2.shape[0])\n",
    "print(\"numero de tuits, tercer periodo\", dc3.shape[0])"
   ]
  },
  {
   "cell_type": "code",
   "execution_count": 68,
   "metadata": {
    "scrolled": false
   },
   "outputs": [
    {
     "data": {
      "image/png": "[encoded data removed]",
      "text/plain": [
       "<Figure size 720x576 with 1 Axes>"
      ]
     },
     "metadata": {
      "needs_background": "light"
     },
     "output_type": "display_data"
    }
   ],
   "source": [
    "plt.figure(figsize=(10,8))\n",
    "#plt.hist(dc_cut[\"created_at\"], bins=25, histtype='step', color=\"b\", linewidth=2, fill=False);\n",
    "#plt.hist(dc1[\"created_at\"], bins=5, histtype='step', color=\"m\", linewidth=1, fill=True);\n",
    "plt.hist(dc2[\"created_at\"], bins=8, histtype='step', color=\"darkblue\", linewidth=1, fill=True);\n",
    "plt.hist(dc3[\"created_at\"], bins=8, histtype='step', color=\"b\", linewidth=1, fill=True)\n",
    "plt.xlabel(\"Fecha de creación del tuit\")\n",
    "plt.ylabel(\"Número de tuits\")\n",
    "plt.show()"
   ]
  },
  {
   "cell_type": "code",
   "execution_count": 69,
   "metadata": {
    "scrolled": true
   },
   "outputs": [
    {
     "data": {
      "text/plain": [
       "'Comunidades abandonadas por el Gobierno alzan su voz...#SantosDestituidoPorElPueblo https://t.co/UVbdWHr7E0'"
      ]
     },
     "execution_count": 69,
     "metadata": {},
     "output_type": "execute_result"
    }
   ],
   "source": [
    "dc.iloc[10, 7]"
   ]
  },
  {
   "cell_type": "code",
   "execution_count": 70,
   "metadata": {},
   "outputs": [
    {
     "data": {
      "text/plain": [
       "3040"
      ]
     },
     "execution_count": 70,
     "metadata": {},
     "output_type": "execute_result"
    }
   ],
   "source": [
    "#df[\"retweet_count\"].max()\n",
    "np.max(dc[\"retweet_count\"])"
   ]
  },
  {
   "cell_type": "code",
   "execution_count": 71,
   "metadata": {},
   "outputs": [],
   "source": [
    "dc_RT= dc[dc[\"retweet_count\"]==3040]"
   ]
  },
  {
   "cell_type": "code",
   "execution_count": 89,
   "metadata": {},
   "outputs": [
    {
     "data": {
      "text/html": [
       "<div>\n",
       "<style scoped>\n",
       "    .dataframe tbody tr th:only-of-type {\n",
       "        vertical-align: middle;\n",
       "    }\n",
       "\n",
       "    .dataframe tbody tr th {\n",
       "        vertical-align: top;\n",
       "    }\n",
       "\n",
       "    .dataframe thead th {\n",
       "        text-align: right;\n",
       "    }\n",
       "</style>\n",
       "<table border=\"1\" class=\"dataframe\">\n",
       "  <thead>\n",
       "    <tr style=\"text-align: right;\">\n",
       "      <th></th>\n",
       "      <th>created_at</th>\n",
       "      <th>favorite_count</th>\n",
       "      <th>followers_count</th>\n",
       "      <th>id_str</th>\n",
       "      <th>in_reply_to_screen_name</th>\n",
       "      <th>retweet_count</th>\n",
       "      <th>screen_name</th>\n",
       "      <th>text</th>\n",
       "    </tr>\n",
       "  </thead>\n",
       "  <tbody>\n",
       "    <tr>\n",
       "      <th>1721</th>\n",
       "      <td>2016-06-16 02:39:22</td>\n",
       "      <td>0</td>\n",
       "      <td>7498</td>\n",
       "      <td>743271721680134144</td>\n",
       "      <td>None</td>\n",
       "      <td>3040</td>\n",
       "      <td>MiVotoEsNO</td>\n",
       "      <td>RT @CGurisattiNTN24: Poner una firma para exig...</td>\n",
       "    </tr>\n",
       "  </tbody>\n",
       "</table>\n",
       "</div>"
      ],
      "text/plain": [
       "              created_at  favorite_count  followers_count              id_str  \\\n",
       "1721 2016-06-16 02:39:22               0             7498  743271721680134144   \n",
       "\n",
       "     in_reply_to_screen_name  retweet_count screen_name  \\\n",
       "1721                    None           3040  MiVotoEsNO   \n",
       "\n",
       "                                                   text  \n",
       "1721  RT @CGurisattiNTN24: Poner una firma para exig...  "
      ]
     },
     "execution_count": 89,
     "metadata": {},
     "output_type": "execute_result"
    }
   ],
   "source": [
    "dc_RT.head()"
   ]
  },
  {
   "cell_type": "code",
   "execution_count": 95,
   "metadata": {},
   "outputs": [],
   "source": [
    "pd.set_option('display.max_rows', None)\n",
    "pd.set_option('display.max_columns', None)\n",
    "pd.set_option('display.width', None)\n",
    "pd.set_option('display.max_colwidth', None)"
   ]
  },
  {
   "cell_type": "code",
   "execution_count": 97,
   "metadata": {},
   "outputs": [
    {
     "data": {
      "text/html": [
       "<style>.container { width:100% !important; }</style>"
      ],
      "text/plain": [
       "<IPython.core.display.HTML object>"
      ]
     },
     "metadata": {},
     "output_type": "display_data"
    }
   ],
   "source": [
    "from IPython.core.display import display, HTML\n",
    "display(HTML(\"<style>.container { width:100% !important; }</style>\"))"
   ]
  },
  {
   "cell_type": "code",
   "execution_count": 91,
   "metadata": {
    "scrolled": true
   },
   "outputs": [
    {
     "name": "stdout",
     "output_type": "stream",
     "text": [
      "RT @CGurisattiNTN24: Poner una firma para exigir que la PAZ sea con justicia en Col es un hecho legítimo . Que al presidente le de \"risa\" e…\n"
     ]
    }
   ],
   "source": [
    "print(dc.iloc[1721, 7], flush=True)"
   ]
  },
  {
   "cell_type": "code",
   "execution_count": 94,
   "metadata": {},
   "outputs": [
    {
     "data": {
      "text/html": [
       "<div>\n",
       "<style scoped>\n",
       "    .dataframe tbody tr th:only-of-type {\n",
       "        vertical-align: middle;\n",
       "    }\n",
       "\n",
       "    .dataframe tbody tr th {\n",
       "        vertical-align: top;\n",
       "    }\n",
       "\n",
       "    .dataframe thead th {\n",
       "        text-align: right;\n",
       "    }\n",
       "</style>\n",
       "<table border=\"1\" class=\"dataframe\">\n",
       "  <thead>\n",
       "    <tr style=\"text-align: right;\">\n",
       "      <th></th>\n",
       "      <th>created_at</th>\n",
       "      <th>favorite_count</th>\n",
       "      <th>followers_count</th>\n",
       "      <th>id_str</th>\n",
       "      <th>in_reply_to_screen_name</th>\n",
       "      <th>retweet_count</th>\n",
       "      <th>screen_name</th>\n",
       "      <th>text</th>\n",
       "    </tr>\n",
       "  </thead>\n",
       "  <tbody>\n",
       "    <tr>\n",
       "      <th>1721</th>\n",
       "      <td>2016-06-16 02:39:22</td>\n",
       "      <td>0</td>\n",
       "      <td>7498</td>\n",
       "      <td>743271721680134144</td>\n",
       "      <td>None</td>\n",
       "      <td>3040</td>\n",
       "      <td>MiVotoEsNO</td>\n",
       "      <td>RT @CGurisattiNTN24: Poner una firma para exigir que la PAZ sea con justicia en Col es un hecho legítimo . Que al presidente le de \"risa\" e…</td>\n",
       "    </tr>\n",
       "  </tbody>\n",
       "</table>\n",
       "</div>"
      ],
      "text/plain": [
       "              created_at  favorite_count  followers_count              id_str  \\\n",
       "1721 2016-06-16 02:39:22               0             7498  743271721680134144   \n",
       "\n",
       "     in_reply_to_screen_name  retweet_count screen_name  \\\n",
       "1721                    None           3040  MiVotoEsNO   \n",
       "\n",
       "                                                                                                                                              text  \n",
       "1721  RT @CGurisattiNTN24: Poner una firma para exigir que la PAZ sea con justicia en Col es un hecho legítimo . Que al presidente le de \"risa\" e…  "
      ]
     },
     "execution_count": 94,
     "metadata": {},
     "output_type": "execute_result"
    }
   ],
   "source": [
    "dc_RT.head()"
   ]
  },
  {
   "cell_type": "markdown",
   "metadata": {},
   "source": [
    "### Selección de tuits"
   ]
  },
  {
   "cell_type": "code",
   "execution_count": 115,
   "metadata": {},
   "outputs": [],
   "source": [
    "tt=[]\n",
    "dx = pd.DataFrame()\n",
    "def eligetuits(dx, x):\n",
    "    nt=dx.shape[0]\n",
    "    r=np.linspace(0,nt,nt+1).tolist()\n",
    "    ct=random.sample(r, int(nt*x))\n",
    "    print(len(ct))\n",
    "\n",
    "    for i in range(len(ct)):\n",
    "        print(dx.iloc[int(ct[i]), 0], dx.iloc[int(ct[i]), 7])\n",
    "        #tt.append([dx.iloc[int(ct[i]), 0], dx.iloc[int(ct[i]), 7]])"
   ]
  },
  {
   "cell_type": "code",
   "execution_count": 116,
   "metadata": {},
   "outputs": [
    {
     "name": "stdout",
     "output_type": "stream",
     "text": [
      "37\n",
      "2016-09-07 17:44:52 #Plebisantos https://t.co/GxZCOLYN02\n",
      "2016-09-13 22:58:56 RT @papel_periodico: Cuantos mercados para niños desnutridos de la Guajira puede transportar este avión? O  cuantos pacientes de EPS? https…\n",
      "2016-08-26 10:39:41 RT @JuanGBurgosR: #LeCreoaClara https://t.co/VXnxfkZo1A\n",
      "2016-09-30 12:44:13 RT @papel_periodico: Huracan Matthew sería la salvación enviada por Dios para que mermelados mamertos farianos en la costa no salgan a vota…\n",
      "2016-08-14 00:48:50 #LaTalPas https://t.co/hU3BzM4FMK\n",
      "2016-09-16 19:06:57 RT @fartinsantos: #SioNo Usted cree que Santos puede hacer pregunta que “le dé la gana” ?\n",
      "2016-09-25 06:54:53 RT @Dcabralescast: José Payares, topógrafo del aeropuerto Los Garzones denuncia inmovilización de su vehículo \"solo porque tengo calcomanía…\n",
      "2016-10-02 13:44:15 https://t.co/r7Nr3Z6VZO\n",
      "2016-09-19 00:27:32 RT @papel_periodico: La mermelada compara a Colombia con Sierra Leona, Angola, Nepal, Nigeria y Sudan @CaracolNoticias #JuanRobertoVargas h…\n",
      "2016-09-25 06:46:43 RT @majagual: Decir que FARC secuestraron cientos de soldados y civiles, será causal de persecución y juicio.@FATOU_BENSOUDA https://t.co/9…\n",
      "2016-09-12 12:48:50 RT @papel_periodico: https://t.co/B5KRWU6OYE\n",
      "2016-08-10 20:40:23 #LaTalPas https://t.co/ZWap2DZnTk\n",
      "2016-09-14 19:38:37 #LaTalPas @FendiBogota https://t.co/CICmYVuMra\n",
      "2016-09-25 07:11:04 #NoALasFARC https://t.co/QBwBETmQa6\n",
      "2016-08-13 12:56:21 Vote NO a las #FARC https://t.co/QoAcZQcNBR\n",
      "2016-09-25 06:45:09 RT @Jimmybp: Para la gente del SI ojo señores no se dejen engañar estamos a tiempo de impedir el desastre más grande q puede tener una naci…\n",
      "2016-08-10 00:08:13 RT @josegreghg: En vez de la cartilla desorientadora, @Mineducacion debería insistir en la formación integral de los niños, en valores y pr…\n",
      "2016-08-05 23:05:25 RT @plebisantos: Con la victoria del NO la patria pedira la renuncia del traidor @JuanManSantos\n",
      "2016-08-25 18:30:03 RT @fartinsantos: Esta de acuerdo con que le paguen RENTA a los terroristas de las FARC ?\n",
      "2016-09-30 14:38:51 RT @PaolaSenadora: El excanciller Fernando Araujo, secuestrado 6 años por las Farc, invita a los colombianos a votar NO este domingo #VotoN…\n",
      "2016-09-25 06:52:27 RT @univalleCo: ¿Y dónde está mr. destituidor?\n",
      "Ah, verdad que los destituyeron, ¿o lo anularon fue?\n",
      "En fin, lo sacaron por corrupto : l htt…\n",
      "2016-09-18 15:07:19 Farc piden reintegro de plata de la guaca del Caquetá con intereses https://t.co/0xCcy8eZ9Q\n",
      "2016-09-29 01:41:46 RT @franpard21: @papel_periodico q viva Antioquia y es mejor salirnos d est narco estado no ahí ejemplo para darle a nuestros hijos https:/…\n",
      "2016-09-12 10:40:47 @nytimesES  cuestiona beneficios a jefes paramilitares en EE. UU. Por penas de 7 años de prisión. FARC no pagaran ni 1 día de carcel\n",
      "2016-09-25 06:53:52 RT @kryssduque: Pues, mejor el mio https://t.co/45eimNUaUI\n",
      "2016-08-03 23:54:32 RT @plebisantos: @MeDicenWally @AArdilaPacheco #Mamertos lean la encuesta de hoy, esa es la respuesta.\n",
      "2016-09-16 19:06:55 RT @papel_periodico: ¿Sabía que aumentarán el iva del 16% al 19% para \"pagarle a Farc todo lo que les de la gana\"; como dice @JuanManSantos…\n",
      "2016-09-18 03:56:00 RT @NoticiasRCN: Comerciantes siguen siendo extorsionados por las Farc, según Fenalco. https://t.co/EQJurVVGXD\n",
      "2016-09-25 06:55:54 #NoALasFARC\n",
      "2016-09-15 11:52:04 RT @papel_periodico: Desde el 13 de febrero de 1.996; no eramos decertificados por los Estados Unidos #LaTalPas de @JuanManSantos https://t…\n",
      "2016-10-02 23:39:56 #SantosRenuncie https://t.co/QQmau01Eah\n",
      "2016-09-16 18:27:08 RT @plebisantos: Esperamos que @JuanManSantos se suba al tren de NO, ya que todavía esta a tiempo #ColombiaVotaNo\n",
      "2016-08-21 18:59:32 #LaTalPas https://t.co/1MZEDi7ciC\n",
      "2016-09-25 06:52:16 RT @cmbustamante: Grupos inmensos (pagados) de bienvenida al show de Santos, ellos con su paloma y yo con mi NO. NO MÁS MENTIRAS #VotoNO ht…\n",
      "2016-09-17 02:18:44 RT @papel_periodico: Expresidentes Uribe y Pastrana piden a Gobiernos extranjeros no asistir a firma de la legitimización del grupo terrori…\n",
      "2016-10-01 21:45:05 RT @RUBYELENA1: #UnDato Para recordarles a los que odian a Uribe y por eso votarán SÍ, que la mierda la comeremos todos por igual. #PorLaPa…\n",
      "2016-08-11 05:35:10 #LaTalPas https://t.co/A8GkTEBFIE\n"
     ]
    }
   ],
   "source": [
    "eligetuits(da3, 0.2)"
   ]
  },
  {
   "cell_type": "code",
   "execution_count": null,
   "metadata": {},
   "outputs": [],
   "source": []
  },
  {
   "cell_type": "code",
   "execution_count": null,
   "metadata": {},
   "outputs": [],
   "source": []
  }
 ],
 "metadata": {
  "kernelspec": {
   "display_name": "Python 3",
   "language": "python",
   "name": "python3"
  },
  "language_info": {
   "codemirror_mode": {
    "name": "ipython",
    "version": 3
   },
   "file_extension": ".py",
   "mimetype": "text/x-python",
   "name": "python",
   "nbconvert_exporter": "python",
   "pygments_lexer": "ipython3",
   "version": "3.6.9"
  }
 },
 "nbformat": 4,
 "nbformat_minor": 2
}
